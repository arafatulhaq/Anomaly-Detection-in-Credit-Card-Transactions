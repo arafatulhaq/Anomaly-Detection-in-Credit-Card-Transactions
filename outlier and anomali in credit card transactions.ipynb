{
  "nbformat": 4,
  "nbformat_minor": 0,
  "metadata": {
    "colab": {
      "provenance": [],
      "collapsed_sections": [
        "v3TIOHdUeiNP",
        "3Wp_-tjDebzh",
        "VE_jPjIu7kwE"
      ]
    },
    "kernelspec": {
      "name": "python3",
      "display_name": "Python 3"
    },
    "language_info": {
      "name": "python"
    }
  },
  "cells": [
    {
      "cell_type": "markdown",
      "source": [
        "##Import Dataset"
      ],
      "metadata": {
        "id": "8jMYiPAhDylp"
      }
    },
    {
      "cell_type": "code",
      "source": [
        "from google.colab import drive\n",
        "drive.mount('/content/drive')"
      ],
      "metadata": {
        "id": "ktSHfIKFR5ex",
        "colab": {
          "base_uri": "https://localhost:8080/"
        },
        "outputId": "ca3c9712-9201-4463-cf8d-caa6f4d33adc"
      },
      "execution_count": null,
      "outputs": [
        {
          "output_type": "stream",
          "name": "stdout",
          "text": [
            "Mounted at /content/drive\n"
          ]
        }
      ]
    },
    {
      "cell_type": "code",
      "execution_count": null,
      "metadata": {
        "id": "lAuu9ZBmUhwN"
      },
      "outputs": [],
      "source": [
        "import pandas as pd\n",
        "import numpy as np\n",
        "import matplotlib.pyplot as plt\n",
        "from matplotlib import pyplot\n",
        "import seaborn as sn\n",
        "\n",
        "from sklearn.neighbors import LocalOutlierFactor\n",
        "from sklearn.svm import OneClassSVM\n",
        "from sklearn.ensemble import IsolationForest\n",
        "\n",
        "from sklearn.preprocessing import LabelEncoder\n",
        "from sklearn.metrics import accuracy_score, precision_score, recall_score, f1_score\n",
        "from sklearn.model_selection import train_test_split"
      ]
    },
    {
      "cell_type": "code",
      "source": [
        "data = pd.read_excel('/content/drive/MyDrive/dataset setelah uts/Credit Card Fraud Detection.xlsx')\n",
        "data.head()"
      ],
      "metadata": {
        "colab": {
          "base_uri": "https://localhost:8080/",
          "height": 255
        },
        "id": "m7rwnBl7WqA9",
        "outputId": "c9a6d67f-0342-40e1-c5c2-6cf1cb35161c"
      },
      "execution_count": null,
      "outputs": [
        {
          "output_type": "execute_result",
          "data": {
            "text/plain": [
              "   Time               V1               V2               V3               V4  \\\n",
              "0     0  -13598071336738 -727811733098497  253634673796914  137815522427443   \n",
              "1     0  119185711131486   26615071205963   16648011335321  448154078460911   \n",
              "2     1 -135835406159823 -134016307473609  177320934263119  379779593034328   \n",
              "3     1 -966271711572087 -185226008082898  179299333957872 -863291275036453   \n",
              "4     2 -115823309349523  877736754848451    1548717846511  403033933955121   \n",
              "\n",
              "                V5               V6               V7               V8  \\\n",
              "0 -338320769942518  462387777762292  239598554061257  986979012610507   \n",
              "1  600176492822243 -823608088155687 -788029833323113  851016549148104   \n",
              "2 -503198133318193  180049938079263  791460956450422  247675786588991   \n",
              "3 -103088796030823  124720316752486   23760893977178  377435874652262   \n",
              "4 -407193377311653  959214624684256  592940745385545 -270532677192282   \n",
              "\n",
              "                V9  ...              V21              V22              V23  \\\n",
              "0  363786969611213  ...  -18306777944153  277837575558899 -110473910188767   \n",
              "1 -255425128109186  ... -225775248033138 -638671952771851  101288021253234   \n",
              "2 -151465432260583  ...  247998153469754  771679401917229  909412262347719   \n",
              "3 -138702406270197  ... -108300452035545  527359678253453 -190320518742841   \n",
              "4  817739308235294  ... -943069713232919   79827849458971 -137458079619063   \n",
              "\n",
              "               V24              V25              V26              V27  \\\n",
              "0  669280749146731  128539358273528 -189114843888824  133558376740387   \n",
              "1 -339846475529127  167170404418143  125894532368176 -898309914322813   \n",
              "2 -689280956490685 -327641833735251 -139096571514147 -553527940384261   \n",
              "3 -117557533186321  647376034602038 -221928844458407  627228487293033   \n",
              "4  141266983824769 -206009587619756  502292224181569  219422229513348   \n",
              "\n",
              "               V28  Amount  Class  \n",
              "0 -210530534538215   14962      0  \n",
              "1  147241691924927     269      0  \n",
              "2 -597518405929204   37866      0  \n",
              "3  614576285006353    1235      0  \n",
              "4  215153147499206    6999      0  \n",
              "\n",
              "[5 rows x 31 columns]"
            ],
            "text/html": [
              "\n",
              "  <div id=\"df-316d05cc-4d69-4428-a7e4-3d8f08565dc0\" class=\"colab-df-container\">\n",
              "    <div>\n",
              "<style scoped>\n",
              "    .dataframe tbody tr th:only-of-type {\n",
              "        vertical-align: middle;\n",
              "    }\n",
              "\n",
              "    .dataframe tbody tr th {\n",
              "        vertical-align: top;\n",
              "    }\n",
              "\n",
              "    .dataframe thead th {\n",
              "        text-align: right;\n",
              "    }\n",
              "</style>\n",
              "<table border=\"1\" class=\"dataframe\">\n",
              "  <thead>\n",
              "    <tr style=\"text-align: right;\">\n",
              "      <th></th>\n",
              "      <th>Time</th>\n",
              "      <th>V1</th>\n",
              "      <th>V2</th>\n",
              "      <th>V3</th>\n",
              "      <th>V4</th>\n",
              "      <th>V5</th>\n",
              "      <th>V6</th>\n",
              "      <th>V7</th>\n",
              "      <th>V8</th>\n",
              "      <th>V9</th>\n",
              "      <th>...</th>\n",
              "      <th>V21</th>\n",
              "      <th>V22</th>\n",
              "      <th>V23</th>\n",
              "      <th>V24</th>\n",
              "      <th>V25</th>\n",
              "      <th>V26</th>\n",
              "      <th>V27</th>\n",
              "      <th>V28</th>\n",
              "      <th>Amount</th>\n",
              "      <th>Class</th>\n",
              "    </tr>\n",
              "  </thead>\n",
              "  <tbody>\n",
              "    <tr>\n",
              "      <th>0</th>\n",
              "      <td>0</td>\n",
              "      <td>-13598071336738</td>\n",
              "      <td>-727811733098497</td>\n",
              "      <td>253634673796914</td>\n",
              "      <td>137815522427443</td>\n",
              "      <td>-338320769942518</td>\n",
              "      <td>462387777762292</td>\n",
              "      <td>239598554061257</td>\n",
              "      <td>986979012610507</td>\n",
              "      <td>363786969611213</td>\n",
              "      <td>...</td>\n",
              "      <td>-18306777944153</td>\n",
              "      <td>277837575558899</td>\n",
              "      <td>-110473910188767</td>\n",
              "      <td>669280749146731</td>\n",
              "      <td>128539358273528</td>\n",
              "      <td>-189114843888824</td>\n",
              "      <td>133558376740387</td>\n",
              "      <td>-210530534538215</td>\n",
              "      <td>14962</td>\n",
              "      <td>0</td>\n",
              "    </tr>\n",
              "    <tr>\n",
              "      <th>1</th>\n",
              "      <td>0</td>\n",
              "      <td>119185711131486</td>\n",
              "      <td>26615071205963</td>\n",
              "      <td>16648011335321</td>\n",
              "      <td>448154078460911</td>\n",
              "      <td>600176492822243</td>\n",
              "      <td>-823608088155687</td>\n",
              "      <td>-788029833323113</td>\n",
              "      <td>851016549148104</td>\n",
              "      <td>-255425128109186</td>\n",
              "      <td>...</td>\n",
              "      <td>-225775248033138</td>\n",
              "      <td>-638671952771851</td>\n",
              "      <td>101288021253234</td>\n",
              "      <td>-339846475529127</td>\n",
              "      <td>167170404418143</td>\n",
              "      <td>125894532368176</td>\n",
              "      <td>-898309914322813</td>\n",
              "      <td>147241691924927</td>\n",
              "      <td>269</td>\n",
              "      <td>0</td>\n",
              "    </tr>\n",
              "    <tr>\n",
              "      <th>2</th>\n",
              "      <td>1</td>\n",
              "      <td>-135835406159823</td>\n",
              "      <td>-134016307473609</td>\n",
              "      <td>177320934263119</td>\n",
              "      <td>379779593034328</td>\n",
              "      <td>-503198133318193</td>\n",
              "      <td>180049938079263</td>\n",
              "      <td>791460956450422</td>\n",
              "      <td>247675786588991</td>\n",
              "      <td>-151465432260583</td>\n",
              "      <td>...</td>\n",
              "      <td>247998153469754</td>\n",
              "      <td>771679401917229</td>\n",
              "      <td>909412262347719</td>\n",
              "      <td>-689280956490685</td>\n",
              "      <td>-327641833735251</td>\n",
              "      <td>-139096571514147</td>\n",
              "      <td>-553527940384261</td>\n",
              "      <td>-597518405929204</td>\n",
              "      <td>37866</td>\n",
              "      <td>0</td>\n",
              "    </tr>\n",
              "    <tr>\n",
              "      <th>3</th>\n",
              "      <td>1</td>\n",
              "      <td>-966271711572087</td>\n",
              "      <td>-185226008082898</td>\n",
              "      <td>179299333957872</td>\n",
              "      <td>-863291275036453</td>\n",
              "      <td>-103088796030823</td>\n",
              "      <td>124720316752486</td>\n",
              "      <td>23760893977178</td>\n",
              "      <td>377435874652262</td>\n",
              "      <td>-138702406270197</td>\n",
              "      <td>...</td>\n",
              "      <td>-108300452035545</td>\n",
              "      <td>527359678253453</td>\n",
              "      <td>-190320518742841</td>\n",
              "      <td>-117557533186321</td>\n",
              "      <td>647376034602038</td>\n",
              "      <td>-221928844458407</td>\n",
              "      <td>627228487293033</td>\n",
              "      <td>614576285006353</td>\n",
              "      <td>1235</td>\n",
              "      <td>0</td>\n",
              "    </tr>\n",
              "    <tr>\n",
              "      <th>4</th>\n",
              "      <td>2</td>\n",
              "      <td>-115823309349523</td>\n",
              "      <td>877736754848451</td>\n",
              "      <td>1548717846511</td>\n",
              "      <td>403033933955121</td>\n",
              "      <td>-407193377311653</td>\n",
              "      <td>959214624684256</td>\n",
              "      <td>592940745385545</td>\n",
              "      <td>-270532677192282</td>\n",
              "      <td>817739308235294</td>\n",
              "      <td>...</td>\n",
              "      <td>-943069713232919</td>\n",
              "      <td>79827849458971</td>\n",
              "      <td>-137458079619063</td>\n",
              "      <td>141266983824769</td>\n",
              "      <td>-206009587619756</td>\n",
              "      <td>502292224181569</td>\n",
              "      <td>219422229513348</td>\n",
              "      <td>215153147499206</td>\n",
              "      <td>6999</td>\n",
              "      <td>0</td>\n",
              "    </tr>\n",
              "  </tbody>\n",
              "</table>\n",
              "<p>5 rows × 31 columns</p>\n",
              "</div>\n",
              "    <div class=\"colab-df-buttons\">\n",
              "\n",
              "  <div class=\"colab-df-container\">\n",
              "    <button class=\"colab-df-convert\" onclick=\"convertToInteractive('df-316d05cc-4d69-4428-a7e4-3d8f08565dc0')\"\n",
              "            title=\"Convert this dataframe to an interactive table.\"\n",
              "            style=\"display:none;\">\n",
              "\n",
              "  <svg xmlns=\"http://www.w3.org/2000/svg\" height=\"24px\" viewBox=\"0 -960 960 960\">\n",
              "    <path d=\"M120-120v-720h720v720H120Zm60-500h600v-160H180v160Zm220 220h160v-160H400v160Zm0 220h160v-160H400v160ZM180-400h160v-160H180v160Zm440 0h160v-160H620v160ZM180-180h160v-160H180v160Zm440 0h160v-160H620v160Z\"/>\n",
              "  </svg>\n",
              "    </button>\n",
              "\n",
              "  <style>\n",
              "    .colab-df-container {\n",
              "      display:flex;\n",
              "      gap: 12px;\n",
              "    }\n",
              "\n",
              "    .colab-df-convert {\n",
              "      background-color: #E8F0FE;\n",
              "      border: none;\n",
              "      border-radius: 50%;\n",
              "      cursor: pointer;\n",
              "      display: none;\n",
              "      fill: #1967D2;\n",
              "      height: 32px;\n",
              "      padding: 0 0 0 0;\n",
              "      width: 32px;\n",
              "    }\n",
              "\n",
              "    .colab-df-convert:hover {\n",
              "      background-color: #E2EBFA;\n",
              "      box-shadow: 0px 1px 2px rgba(60, 64, 67, 0.3), 0px 1px 3px 1px rgba(60, 64, 67, 0.15);\n",
              "      fill: #174EA6;\n",
              "    }\n",
              "\n",
              "    .colab-df-buttons div {\n",
              "      margin-bottom: 4px;\n",
              "    }\n",
              "\n",
              "    [theme=dark] .colab-df-convert {\n",
              "      background-color: #3B4455;\n",
              "      fill: #D2E3FC;\n",
              "    }\n",
              "\n",
              "    [theme=dark] .colab-df-convert:hover {\n",
              "      background-color: #434B5C;\n",
              "      box-shadow: 0px 1px 3px 1px rgba(0, 0, 0, 0.15);\n",
              "      filter: drop-shadow(0px 1px 2px rgba(0, 0, 0, 0.3));\n",
              "      fill: #FFFFFF;\n",
              "    }\n",
              "  </style>\n",
              "\n",
              "    <script>\n",
              "      const buttonEl =\n",
              "        document.querySelector('#df-316d05cc-4d69-4428-a7e4-3d8f08565dc0 button.colab-df-convert');\n",
              "      buttonEl.style.display =\n",
              "        google.colab.kernel.accessAllowed ? 'block' : 'none';\n",
              "\n",
              "      async function convertToInteractive(key) {\n",
              "        const element = document.querySelector('#df-316d05cc-4d69-4428-a7e4-3d8f08565dc0');\n",
              "        const dataTable =\n",
              "          await google.colab.kernel.invokeFunction('convertToInteractive',\n",
              "                                                    [key], {});\n",
              "        if (!dataTable) return;\n",
              "\n",
              "        const docLinkHtml = 'Like what you see? Visit the ' +\n",
              "          '<a target=\"_blank\" href=https://colab.research.google.com/notebooks/data_table.ipynb>data table notebook</a>'\n",
              "          + ' to learn more about interactive tables.';\n",
              "        element.innerHTML = '';\n",
              "        dataTable['output_type'] = 'display_data';\n",
              "        await google.colab.output.renderOutput(dataTable, element);\n",
              "        const docLink = document.createElement('div');\n",
              "        docLink.innerHTML = docLinkHtml;\n",
              "        element.appendChild(docLink);\n",
              "      }\n",
              "    </script>\n",
              "  </div>\n",
              "\n",
              "\n",
              "<div id=\"df-b9584c6a-3b67-46b2-8a91-e8a052590dd7\">\n",
              "  <button class=\"colab-df-quickchart\" onclick=\"quickchart('df-b9584c6a-3b67-46b2-8a91-e8a052590dd7')\"\n",
              "            title=\"Suggest charts\"\n",
              "            style=\"display:none;\">\n",
              "\n",
              "<svg xmlns=\"http://www.w3.org/2000/svg\" height=\"24px\"viewBox=\"0 0 24 24\"\n",
              "     width=\"24px\">\n",
              "    <g>\n",
              "        <path d=\"M19 3H5c-1.1 0-2 .9-2 2v14c0 1.1.9 2 2 2h14c1.1 0 2-.9 2-2V5c0-1.1-.9-2-2-2zM9 17H7v-7h2v7zm4 0h-2V7h2v10zm4 0h-2v-4h2v4z\"/>\n",
              "    </g>\n",
              "</svg>\n",
              "  </button>\n",
              "\n",
              "<style>\n",
              "  .colab-df-quickchart {\n",
              "      --bg-color: #E8F0FE;\n",
              "      --fill-color: #1967D2;\n",
              "      --hover-bg-color: #E2EBFA;\n",
              "      --hover-fill-color: #174EA6;\n",
              "      --disabled-fill-color: #AAA;\n",
              "      --disabled-bg-color: #DDD;\n",
              "  }\n",
              "\n",
              "  [theme=dark] .colab-df-quickchart {\n",
              "      --bg-color: #3B4455;\n",
              "      --fill-color: #D2E3FC;\n",
              "      --hover-bg-color: #434B5C;\n",
              "      --hover-fill-color: #FFFFFF;\n",
              "      --disabled-bg-color: #3B4455;\n",
              "      --disabled-fill-color: #666;\n",
              "  }\n",
              "\n",
              "  .colab-df-quickchart {\n",
              "    background-color: var(--bg-color);\n",
              "    border: none;\n",
              "    border-radius: 50%;\n",
              "    cursor: pointer;\n",
              "    display: none;\n",
              "    fill: var(--fill-color);\n",
              "    height: 32px;\n",
              "    padding: 0;\n",
              "    width: 32px;\n",
              "  }\n",
              "\n",
              "  .colab-df-quickchart:hover {\n",
              "    background-color: var(--hover-bg-color);\n",
              "    box-shadow: 0 1px 2px rgba(60, 64, 67, 0.3), 0 1px 3px 1px rgba(60, 64, 67, 0.15);\n",
              "    fill: var(--button-hover-fill-color);\n",
              "  }\n",
              "\n",
              "  .colab-df-quickchart-complete:disabled,\n",
              "  .colab-df-quickchart-complete:disabled:hover {\n",
              "    background-color: var(--disabled-bg-color);\n",
              "    fill: var(--disabled-fill-color);\n",
              "    box-shadow: none;\n",
              "  }\n",
              "\n",
              "  .colab-df-spinner {\n",
              "    border: 2px solid var(--fill-color);\n",
              "    border-color: transparent;\n",
              "    border-bottom-color: var(--fill-color);\n",
              "    animation:\n",
              "      spin 1s steps(1) infinite;\n",
              "  }\n",
              "\n",
              "  @keyframes spin {\n",
              "    0% {\n",
              "      border-color: transparent;\n",
              "      border-bottom-color: var(--fill-color);\n",
              "      border-left-color: var(--fill-color);\n",
              "    }\n",
              "    20% {\n",
              "      border-color: transparent;\n",
              "      border-left-color: var(--fill-color);\n",
              "      border-top-color: var(--fill-color);\n",
              "    }\n",
              "    30% {\n",
              "      border-color: transparent;\n",
              "      border-left-color: var(--fill-color);\n",
              "      border-top-color: var(--fill-color);\n",
              "      border-right-color: var(--fill-color);\n",
              "    }\n",
              "    40% {\n",
              "      border-color: transparent;\n",
              "      border-right-color: var(--fill-color);\n",
              "      border-top-color: var(--fill-color);\n",
              "    }\n",
              "    60% {\n",
              "      border-color: transparent;\n",
              "      border-right-color: var(--fill-color);\n",
              "    }\n",
              "    80% {\n",
              "      border-color: transparent;\n",
              "      border-right-color: var(--fill-color);\n",
              "      border-bottom-color: var(--fill-color);\n",
              "    }\n",
              "    90% {\n",
              "      border-color: transparent;\n",
              "      border-bottom-color: var(--fill-color);\n",
              "    }\n",
              "  }\n",
              "</style>\n",
              "\n",
              "  <script>\n",
              "    async function quickchart(key) {\n",
              "      const quickchartButtonEl =\n",
              "        document.querySelector('#' + key + ' button');\n",
              "      quickchartButtonEl.disabled = true;  // To prevent multiple clicks.\n",
              "      quickchartButtonEl.classList.add('colab-df-spinner');\n",
              "      try {\n",
              "        const charts = await google.colab.kernel.invokeFunction(\n",
              "            'suggestCharts', [key], {});\n",
              "      } catch (error) {\n",
              "        console.error('Error during call to suggestCharts:', error);\n",
              "      }\n",
              "      quickchartButtonEl.classList.remove('colab-df-spinner');\n",
              "      quickchartButtonEl.classList.add('colab-df-quickchart-complete');\n",
              "    }\n",
              "    (() => {\n",
              "      let quickchartButtonEl =\n",
              "        document.querySelector('#df-b9584c6a-3b67-46b2-8a91-e8a052590dd7 button');\n",
              "      quickchartButtonEl.style.display =\n",
              "        google.colab.kernel.accessAllowed ? 'block' : 'none';\n",
              "    })();\n",
              "  </script>\n",
              "</div>\n",
              "    </div>\n",
              "  </div>\n"
            ]
          },
          "metadata": {},
          "execution_count": 3
        }
      ]
    },
    {
      "cell_type": "markdown",
      "source": [
        "##Analisis Info Dataset dan Pre Processing"
      ],
      "metadata": {
        "id": "cPgBZpRSD7Ub"
      }
    },
    {
      "cell_type": "code",
      "source": [
        "data.drop(['Time', 'Amount'], axis=1, inplace=True)"
      ],
      "metadata": {
        "id": "9_GskKVNXtYt"
      },
      "execution_count": null,
      "outputs": []
    },
    {
      "cell_type": "code",
      "source": [
        "data"
      ],
      "metadata": {
        "colab": {
          "base_uri": "https://localhost:8080/",
          "height": 443
        },
        "id": "HogrCmmfXzak",
        "outputId": "cf4ba2a3-a825-4c8c-ce5e-3e644665aa33"
      },
      "execution_count": null,
      "outputs": [
        {
          "output_type": "execute_result",
          "data": {
            "text/plain": [
              "                     V1               V2               V3               V4  \\\n",
              "0       -13598071336738 -727811733098497  253634673796914  137815522427443   \n",
              "1       119185711131486   26615071205963   16648011335321  448154078460911   \n",
              "2      -135835406159823 -134016307473609  177320934263119  379779593034328   \n",
              "3      -966271711572087 -185226008082898  179299333957872 -863291275036453   \n",
              "4      -115823309349523  877736754848451    1548717846511  403033933955121   \n",
              "...                 ...              ...              ...              ...   \n",
              "284802 -118811178854323  100717849710003 -983478345739033 -206665568459413   \n",
              "284803 -732788670658956 -550804899173326  203502974528243  -73858858438744   \n",
              "284804  191956500980048 -301253845990644 -324963981406834  -55782812475002   \n",
              "284805 -240440049680947  530482513118839  702510230095103  689799168040973   \n",
              "284806  -53341252200504 -189733337002305  703337366963779 -506271240328258   \n",
              "\n",
              "                     V5               V6               V7               V8  \\\n",
              "0      -338320769942518  462387777762292  239598554061257  986979012610507   \n",
              "1       600176492822243 -823608088155687 -788029833323113  851016549148104   \n",
              "2      -503198133318193  180049938079263  791460956450422  247675786588991   \n",
              "3      -103088796030823  124720316752486   23760893977178  377435874652262   \n",
              "4      -407193377311653  959214624684256  592940745385545 -270532677192282   \n",
              "...                 ...              ...              ...              ...   \n",
              "284802 -536447278097585  -26068373309456 -491821543115252    7305334020798   \n",
              "284803  868229398914682  105841527222565  243296959175797  294868698501783   \n",
              "284804  263051512011547  303126009781428 -296826527116156  708417184967134   \n",
              "284805 -377961134444982   62370772214768  -68617998628885  679145459790659   \n",
              "284806 -125456787599659 -649616685713792  157700625437629 -414650407552662   \n",
              "\n",
              "                     V9              V10  ...              V20  \\\n",
              "0       363786969611213  907941719789316  ...  251412098239705   \n",
              "1      -255425128109186 -166974414004614  ... -690831352230203   \n",
              "2      -151465432260583  207642865216696  ...  524979725224404   \n",
              "3      -138702406270197 -549519224713749  ... -208037781160366   \n",
              "4       817739308235294  753074431976354  ...  408542360392758   \n",
              "...                 ...              ...  ...              ...   \n",
              "284802   19144282734458  435617041320691  ...   14758291346555   \n",
              "284803  584800017281683 -975926063322508  ...  596158998872689   \n",
              "284804  432454047632915 -484781755751029  ...  139597028995166   \n",
              "284805  392086712465972 -399125651432835  ...  127433515805355   \n",
              "284806  486179505267237 -915426648905893  ...  382948104875066   \n",
              "\n",
              "                    V21              V22              V23              V24  \\\n",
              "0       -18306777944153  277837575558899 -110473910188767  669280749146731   \n",
              "1      -225775248033138 -638671952771851  101288021253234 -339846475529127   \n",
              "2       247998153469754  771679401917229  909412262347719 -689280956490685   \n",
              "3      -108300452035545  527359678253453 -190320518742841 -117557533186321   \n",
              "4      -943069713232919   79827849458971 -137458079619063  141266983824769   \n",
              "...                 ...              ...              ...              ...   \n",
              "284802  213454108437359  111863735978609  101447989719391 -509348453168509   \n",
              "284803  214205341747019  924383584903381  124630383316793 -101622566867336   \n",
              "284804  232045035925397   57822900992263 -375008550221367  640133881346421   \n",
              "284805  265244916386865  800048741498139 -163297944406659  123205243742508   \n",
              "284806  261057330790975  643078437820093  376777014169917  879737940024202   \n",
              "\n",
              "                    V25              V26              V27              V28  \\\n",
              "0       128539358273528 -189114843888824  133558376740387 -210530534538215   \n",
              "1       167170404418143  125894532368176 -898309914322813  147241691924927   \n",
              "2      -327641833735251 -139096571514147 -553527940384261 -597518405929204   \n",
              "3       647376034602038 -221928844458407  627228487293033  614576285006353   \n",
              "4      -206009587619756  502292224181569  219422229513348  215153147499206   \n",
              "...                 ...              ...              ...              ...   \n",
              "284802   14368069070214  250034279569581  943651171507532  823730961486502   \n",
              "284803 -606623985854728 -395255065710324  684724700405593 -535273892010011   \n",
              "284804  265745453243744 -873705959041059  445477213829229 -265608285615222   \n",
              "284805 -569158864158597  546668462188323  108820734744839  104532821478796   \n",
              "284806 -473648703898825 -818267121041176 -241530880001015  136489143320671   \n",
              "\n",
              "        Class  \n",
              "0           0  \n",
              "1           0  \n",
              "2           0  \n",
              "3           0  \n",
              "4           0  \n",
              "...       ...  \n",
              "284802      0  \n",
              "284803      0  \n",
              "284804      0  \n",
              "284805      0  \n",
              "284806      0  \n",
              "\n",
              "[284807 rows x 29 columns]"
            ],
            "text/html": [
              "\n",
              "  <div id=\"df-9b13917c-cd5e-401e-8c2c-88eb2ae58ad3\" class=\"colab-df-container\">\n",
              "    <div>\n",
              "<style scoped>\n",
              "    .dataframe tbody tr th:only-of-type {\n",
              "        vertical-align: middle;\n",
              "    }\n",
              "\n",
              "    .dataframe tbody tr th {\n",
              "        vertical-align: top;\n",
              "    }\n",
              "\n",
              "    .dataframe thead th {\n",
              "        text-align: right;\n",
              "    }\n",
              "</style>\n",
              "<table border=\"1\" class=\"dataframe\">\n",
              "  <thead>\n",
              "    <tr style=\"text-align: right;\">\n",
              "      <th></th>\n",
              "      <th>V1</th>\n",
              "      <th>V2</th>\n",
              "      <th>V3</th>\n",
              "      <th>V4</th>\n",
              "      <th>V5</th>\n",
              "      <th>V6</th>\n",
              "      <th>V7</th>\n",
              "      <th>V8</th>\n",
              "      <th>V9</th>\n",
              "      <th>V10</th>\n",
              "      <th>...</th>\n",
              "      <th>V20</th>\n",
              "      <th>V21</th>\n",
              "      <th>V22</th>\n",
              "      <th>V23</th>\n",
              "      <th>V24</th>\n",
              "      <th>V25</th>\n",
              "      <th>V26</th>\n",
              "      <th>V27</th>\n",
              "      <th>V28</th>\n",
              "      <th>Class</th>\n",
              "    </tr>\n",
              "  </thead>\n",
              "  <tbody>\n",
              "    <tr>\n",
              "      <th>0</th>\n",
              "      <td>-13598071336738</td>\n",
              "      <td>-727811733098497</td>\n",
              "      <td>253634673796914</td>\n",
              "      <td>137815522427443</td>\n",
              "      <td>-338320769942518</td>\n",
              "      <td>462387777762292</td>\n",
              "      <td>239598554061257</td>\n",
              "      <td>986979012610507</td>\n",
              "      <td>363786969611213</td>\n",
              "      <td>907941719789316</td>\n",
              "      <td>...</td>\n",
              "      <td>251412098239705</td>\n",
              "      <td>-18306777944153</td>\n",
              "      <td>277837575558899</td>\n",
              "      <td>-110473910188767</td>\n",
              "      <td>669280749146731</td>\n",
              "      <td>128539358273528</td>\n",
              "      <td>-189114843888824</td>\n",
              "      <td>133558376740387</td>\n",
              "      <td>-210530534538215</td>\n",
              "      <td>0</td>\n",
              "    </tr>\n",
              "    <tr>\n",
              "      <th>1</th>\n",
              "      <td>119185711131486</td>\n",
              "      <td>26615071205963</td>\n",
              "      <td>16648011335321</td>\n",
              "      <td>448154078460911</td>\n",
              "      <td>600176492822243</td>\n",
              "      <td>-823608088155687</td>\n",
              "      <td>-788029833323113</td>\n",
              "      <td>851016549148104</td>\n",
              "      <td>-255425128109186</td>\n",
              "      <td>-166974414004614</td>\n",
              "      <td>...</td>\n",
              "      <td>-690831352230203</td>\n",
              "      <td>-225775248033138</td>\n",
              "      <td>-638671952771851</td>\n",
              "      <td>101288021253234</td>\n",
              "      <td>-339846475529127</td>\n",
              "      <td>167170404418143</td>\n",
              "      <td>125894532368176</td>\n",
              "      <td>-898309914322813</td>\n",
              "      <td>147241691924927</td>\n",
              "      <td>0</td>\n",
              "    </tr>\n",
              "    <tr>\n",
              "      <th>2</th>\n",
              "      <td>-135835406159823</td>\n",
              "      <td>-134016307473609</td>\n",
              "      <td>177320934263119</td>\n",
              "      <td>379779593034328</td>\n",
              "      <td>-503198133318193</td>\n",
              "      <td>180049938079263</td>\n",
              "      <td>791460956450422</td>\n",
              "      <td>247675786588991</td>\n",
              "      <td>-151465432260583</td>\n",
              "      <td>207642865216696</td>\n",
              "      <td>...</td>\n",
              "      <td>524979725224404</td>\n",
              "      <td>247998153469754</td>\n",
              "      <td>771679401917229</td>\n",
              "      <td>909412262347719</td>\n",
              "      <td>-689280956490685</td>\n",
              "      <td>-327641833735251</td>\n",
              "      <td>-139096571514147</td>\n",
              "      <td>-553527940384261</td>\n",
              "      <td>-597518405929204</td>\n",
              "      <td>0</td>\n",
              "    </tr>\n",
              "    <tr>\n",
              "      <th>3</th>\n",
              "      <td>-966271711572087</td>\n",
              "      <td>-185226008082898</td>\n",
              "      <td>179299333957872</td>\n",
              "      <td>-863291275036453</td>\n",
              "      <td>-103088796030823</td>\n",
              "      <td>124720316752486</td>\n",
              "      <td>23760893977178</td>\n",
              "      <td>377435874652262</td>\n",
              "      <td>-138702406270197</td>\n",
              "      <td>-549519224713749</td>\n",
              "      <td>...</td>\n",
              "      <td>-208037781160366</td>\n",
              "      <td>-108300452035545</td>\n",
              "      <td>527359678253453</td>\n",
              "      <td>-190320518742841</td>\n",
              "      <td>-117557533186321</td>\n",
              "      <td>647376034602038</td>\n",
              "      <td>-221928844458407</td>\n",
              "      <td>627228487293033</td>\n",
              "      <td>614576285006353</td>\n",
              "      <td>0</td>\n",
              "    </tr>\n",
              "    <tr>\n",
              "      <th>4</th>\n",
              "      <td>-115823309349523</td>\n",
              "      <td>877736754848451</td>\n",
              "      <td>1548717846511</td>\n",
              "      <td>403033933955121</td>\n",
              "      <td>-407193377311653</td>\n",
              "      <td>959214624684256</td>\n",
              "      <td>592940745385545</td>\n",
              "      <td>-270532677192282</td>\n",
              "      <td>817739308235294</td>\n",
              "      <td>753074431976354</td>\n",
              "      <td>...</td>\n",
              "      <td>408542360392758</td>\n",
              "      <td>-943069713232919</td>\n",
              "      <td>79827849458971</td>\n",
              "      <td>-137458079619063</td>\n",
              "      <td>141266983824769</td>\n",
              "      <td>-206009587619756</td>\n",
              "      <td>502292224181569</td>\n",
              "      <td>219422229513348</td>\n",
              "      <td>215153147499206</td>\n",
              "      <td>0</td>\n",
              "    </tr>\n",
              "    <tr>\n",
              "      <th>...</th>\n",
              "      <td>...</td>\n",
              "      <td>...</td>\n",
              "      <td>...</td>\n",
              "      <td>...</td>\n",
              "      <td>...</td>\n",
              "      <td>...</td>\n",
              "      <td>...</td>\n",
              "      <td>...</td>\n",
              "      <td>...</td>\n",
              "      <td>...</td>\n",
              "      <td>...</td>\n",
              "      <td>...</td>\n",
              "      <td>...</td>\n",
              "      <td>...</td>\n",
              "      <td>...</td>\n",
              "      <td>...</td>\n",
              "      <td>...</td>\n",
              "      <td>...</td>\n",
              "      <td>...</td>\n",
              "      <td>...</td>\n",
              "      <td>...</td>\n",
              "    </tr>\n",
              "    <tr>\n",
              "      <th>284802</th>\n",
              "      <td>-118811178854323</td>\n",
              "      <td>100717849710003</td>\n",
              "      <td>-983478345739033</td>\n",
              "      <td>-206665568459413</td>\n",
              "      <td>-536447278097585</td>\n",
              "      <td>-26068373309456</td>\n",
              "      <td>-491821543115252</td>\n",
              "      <td>7305334020798</td>\n",
              "      <td>19144282734458</td>\n",
              "      <td>435617041320691</td>\n",
              "      <td>...</td>\n",
              "      <td>14758291346555</td>\n",
              "      <td>213454108437359</td>\n",
              "      <td>111863735978609</td>\n",
              "      <td>101447989719391</td>\n",
              "      <td>-509348453168509</td>\n",
              "      <td>14368069070214</td>\n",
              "      <td>250034279569581</td>\n",
              "      <td>943651171507532</td>\n",
              "      <td>823730961486502</td>\n",
              "      <td>0</td>\n",
              "    </tr>\n",
              "    <tr>\n",
              "      <th>284803</th>\n",
              "      <td>-732788670658956</td>\n",
              "      <td>-550804899173326</td>\n",
              "      <td>203502974528243</td>\n",
              "      <td>-73858858438744</td>\n",
              "      <td>868229398914682</td>\n",
              "      <td>105841527222565</td>\n",
              "      <td>243296959175797</td>\n",
              "      <td>294868698501783</td>\n",
              "      <td>584800017281683</td>\n",
              "      <td>-975926063322508</td>\n",
              "      <td>...</td>\n",
              "      <td>596158998872689</td>\n",
              "      <td>214205341747019</td>\n",
              "      <td>924383584903381</td>\n",
              "      <td>124630383316793</td>\n",
              "      <td>-101622566867336</td>\n",
              "      <td>-606623985854728</td>\n",
              "      <td>-395255065710324</td>\n",
              "      <td>684724700405593</td>\n",
              "      <td>-535273892010011</td>\n",
              "      <td>0</td>\n",
              "    </tr>\n",
              "    <tr>\n",
              "      <th>284804</th>\n",
              "      <td>191956500980048</td>\n",
              "      <td>-301253845990644</td>\n",
              "      <td>-324963981406834</td>\n",
              "      <td>-55782812475002</td>\n",
              "      <td>263051512011547</td>\n",
              "      <td>303126009781428</td>\n",
              "      <td>-296826527116156</td>\n",
              "      <td>708417184967134</td>\n",
              "      <td>432454047632915</td>\n",
              "      <td>-484781755751029</td>\n",
              "      <td>...</td>\n",
              "      <td>139597028995166</td>\n",
              "      <td>232045035925397</td>\n",
              "      <td>57822900992263</td>\n",
              "      <td>-375008550221367</td>\n",
              "      <td>640133881346421</td>\n",
              "      <td>265745453243744</td>\n",
              "      <td>-873705959041059</td>\n",
              "      <td>445477213829229</td>\n",
              "      <td>-265608285615222</td>\n",
              "      <td>0</td>\n",
              "    </tr>\n",
              "    <tr>\n",
              "      <th>284805</th>\n",
              "      <td>-240440049680947</td>\n",
              "      <td>530482513118839</td>\n",
              "      <td>702510230095103</td>\n",
              "      <td>689799168040973</td>\n",
              "      <td>-377961134444982</td>\n",
              "      <td>62370772214768</td>\n",
              "      <td>-68617998628885</td>\n",
              "      <td>679145459790659</td>\n",
              "      <td>392086712465972</td>\n",
              "      <td>-399125651432835</td>\n",
              "      <td>...</td>\n",
              "      <td>127433515805355</td>\n",
              "      <td>265244916386865</td>\n",
              "      <td>800048741498139</td>\n",
              "      <td>-163297944406659</td>\n",
              "      <td>123205243742508</td>\n",
              "      <td>-569158864158597</td>\n",
              "      <td>546668462188323</td>\n",
              "      <td>108820734744839</td>\n",
              "      <td>104532821478796</td>\n",
              "      <td>0</td>\n",
              "    </tr>\n",
              "    <tr>\n",
              "      <th>284806</th>\n",
              "      <td>-53341252200504</td>\n",
              "      <td>-189733337002305</td>\n",
              "      <td>703337366963779</td>\n",
              "      <td>-506271240328258</td>\n",
              "      <td>-125456787599659</td>\n",
              "      <td>-649616685713792</td>\n",
              "      <td>157700625437629</td>\n",
              "      <td>-414650407552662</td>\n",
              "      <td>486179505267237</td>\n",
              "      <td>-915426648905893</td>\n",
              "      <td>...</td>\n",
              "      <td>382948104875066</td>\n",
              "      <td>261057330790975</td>\n",
              "      <td>643078437820093</td>\n",
              "      <td>376777014169917</td>\n",
              "      <td>879737940024202</td>\n",
              "      <td>-473648703898825</td>\n",
              "      <td>-818267121041176</td>\n",
              "      <td>-241530880001015</td>\n",
              "      <td>136489143320671</td>\n",
              "      <td>0</td>\n",
              "    </tr>\n",
              "  </tbody>\n",
              "</table>\n",
              "<p>284807 rows × 29 columns</p>\n",
              "</div>\n",
              "    <div class=\"colab-df-buttons\">\n",
              "\n",
              "  <div class=\"colab-df-container\">\n",
              "    <button class=\"colab-df-convert\" onclick=\"convertToInteractive('df-9b13917c-cd5e-401e-8c2c-88eb2ae58ad3')\"\n",
              "            title=\"Convert this dataframe to an interactive table.\"\n",
              "            style=\"display:none;\">\n",
              "\n",
              "  <svg xmlns=\"http://www.w3.org/2000/svg\" height=\"24px\" viewBox=\"0 -960 960 960\">\n",
              "    <path d=\"M120-120v-720h720v720H120Zm60-500h600v-160H180v160Zm220 220h160v-160H400v160Zm0 220h160v-160H400v160ZM180-400h160v-160H180v160Zm440 0h160v-160H620v160ZM180-180h160v-160H180v160Zm440 0h160v-160H620v160Z\"/>\n",
              "  </svg>\n",
              "    </button>\n",
              "\n",
              "  <style>\n",
              "    .colab-df-container {\n",
              "      display:flex;\n",
              "      gap: 12px;\n",
              "    }\n",
              "\n",
              "    .colab-df-convert {\n",
              "      background-color: #E8F0FE;\n",
              "      border: none;\n",
              "      border-radius: 50%;\n",
              "      cursor: pointer;\n",
              "      display: none;\n",
              "      fill: #1967D2;\n",
              "      height: 32px;\n",
              "      padding: 0 0 0 0;\n",
              "      width: 32px;\n",
              "    }\n",
              "\n",
              "    .colab-df-convert:hover {\n",
              "      background-color: #E2EBFA;\n",
              "      box-shadow: 0px 1px 2px rgba(60, 64, 67, 0.3), 0px 1px 3px 1px rgba(60, 64, 67, 0.15);\n",
              "      fill: #174EA6;\n",
              "    }\n",
              "\n",
              "    .colab-df-buttons div {\n",
              "      margin-bottom: 4px;\n",
              "    }\n",
              "\n",
              "    [theme=dark] .colab-df-convert {\n",
              "      background-color: #3B4455;\n",
              "      fill: #D2E3FC;\n",
              "    }\n",
              "\n",
              "    [theme=dark] .colab-df-convert:hover {\n",
              "      background-color: #434B5C;\n",
              "      box-shadow: 0px 1px 3px 1px rgba(0, 0, 0, 0.15);\n",
              "      filter: drop-shadow(0px 1px 2px rgba(0, 0, 0, 0.3));\n",
              "      fill: #FFFFFF;\n",
              "    }\n",
              "  </style>\n",
              "\n",
              "    <script>\n",
              "      const buttonEl =\n",
              "        document.querySelector('#df-9b13917c-cd5e-401e-8c2c-88eb2ae58ad3 button.colab-df-convert');\n",
              "      buttonEl.style.display =\n",
              "        google.colab.kernel.accessAllowed ? 'block' : 'none';\n",
              "\n",
              "      async function convertToInteractive(key) {\n",
              "        const element = document.querySelector('#df-9b13917c-cd5e-401e-8c2c-88eb2ae58ad3');\n",
              "        const dataTable =\n",
              "          await google.colab.kernel.invokeFunction('convertToInteractive',\n",
              "                                                    [key], {});\n",
              "        if (!dataTable) return;\n",
              "\n",
              "        const docLinkHtml = 'Like what you see? Visit the ' +\n",
              "          '<a target=\"_blank\" href=https://colab.research.google.com/notebooks/data_table.ipynb>data table notebook</a>'\n",
              "          + ' to learn more about interactive tables.';\n",
              "        element.innerHTML = '';\n",
              "        dataTable['output_type'] = 'display_data';\n",
              "        await google.colab.output.renderOutput(dataTable, element);\n",
              "        const docLink = document.createElement('div');\n",
              "        docLink.innerHTML = docLinkHtml;\n",
              "        element.appendChild(docLink);\n",
              "      }\n",
              "    </script>\n",
              "  </div>\n",
              "\n",
              "\n",
              "<div id=\"df-511ff61f-b1ea-4143-9445-d8fe34d5fc1f\">\n",
              "  <button class=\"colab-df-quickchart\" onclick=\"quickchart('df-511ff61f-b1ea-4143-9445-d8fe34d5fc1f')\"\n",
              "            title=\"Suggest charts\"\n",
              "            style=\"display:none;\">\n",
              "\n",
              "<svg xmlns=\"http://www.w3.org/2000/svg\" height=\"24px\"viewBox=\"0 0 24 24\"\n",
              "     width=\"24px\">\n",
              "    <g>\n",
              "        <path d=\"M19 3H5c-1.1 0-2 .9-2 2v14c0 1.1.9 2 2 2h14c1.1 0 2-.9 2-2V5c0-1.1-.9-2-2-2zM9 17H7v-7h2v7zm4 0h-2V7h2v10zm4 0h-2v-4h2v4z\"/>\n",
              "    </g>\n",
              "</svg>\n",
              "  </button>\n",
              "\n",
              "<style>\n",
              "  .colab-df-quickchart {\n",
              "      --bg-color: #E8F0FE;\n",
              "      --fill-color: #1967D2;\n",
              "      --hover-bg-color: #E2EBFA;\n",
              "      --hover-fill-color: #174EA6;\n",
              "      --disabled-fill-color: #AAA;\n",
              "      --disabled-bg-color: #DDD;\n",
              "  }\n",
              "\n",
              "  [theme=dark] .colab-df-quickchart {\n",
              "      --bg-color: #3B4455;\n",
              "      --fill-color: #D2E3FC;\n",
              "      --hover-bg-color: #434B5C;\n",
              "      --hover-fill-color: #FFFFFF;\n",
              "      --disabled-bg-color: #3B4455;\n",
              "      --disabled-fill-color: #666;\n",
              "  }\n",
              "\n",
              "  .colab-df-quickchart {\n",
              "    background-color: var(--bg-color);\n",
              "    border: none;\n",
              "    border-radius: 50%;\n",
              "    cursor: pointer;\n",
              "    display: none;\n",
              "    fill: var(--fill-color);\n",
              "    height: 32px;\n",
              "    padding: 0;\n",
              "    width: 32px;\n",
              "  }\n",
              "\n",
              "  .colab-df-quickchart:hover {\n",
              "    background-color: var(--hover-bg-color);\n",
              "    box-shadow: 0 1px 2px rgba(60, 64, 67, 0.3), 0 1px 3px 1px rgba(60, 64, 67, 0.15);\n",
              "    fill: var(--button-hover-fill-color);\n",
              "  }\n",
              "\n",
              "  .colab-df-quickchart-complete:disabled,\n",
              "  .colab-df-quickchart-complete:disabled:hover {\n",
              "    background-color: var(--disabled-bg-color);\n",
              "    fill: var(--disabled-fill-color);\n",
              "    box-shadow: none;\n",
              "  }\n",
              "\n",
              "  .colab-df-spinner {\n",
              "    border: 2px solid var(--fill-color);\n",
              "    border-color: transparent;\n",
              "    border-bottom-color: var(--fill-color);\n",
              "    animation:\n",
              "      spin 1s steps(1) infinite;\n",
              "  }\n",
              "\n",
              "  @keyframes spin {\n",
              "    0% {\n",
              "      border-color: transparent;\n",
              "      border-bottom-color: var(--fill-color);\n",
              "      border-left-color: var(--fill-color);\n",
              "    }\n",
              "    20% {\n",
              "      border-color: transparent;\n",
              "      border-left-color: var(--fill-color);\n",
              "      border-top-color: var(--fill-color);\n",
              "    }\n",
              "    30% {\n",
              "      border-color: transparent;\n",
              "      border-left-color: var(--fill-color);\n",
              "      border-top-color: var(--fill-color);\n",
              "      border-right-color: var(--fill-color);\n",
              "    }\n",
              "    40% {\n",
              "      border-color: transparent;\n",
              "      border-right-color: var(--fill-color);\n",
              "      border-top-color: var(--fill-color);\n",
              "    }\n",
              "    60% {\n",
              "      border-color: transparent;\n",
              "      border-right-color: var(--fill-color);\n",
              "    }\n",
              "    80% {\n",
              "      border-color: transparent;\n",
              "      border-right-color: var(--fill-color);\n",
              "      border-bottom-color: var(--fill-color);\n",
              "    }\n",
              "    90% {\n",
              "      border-color: transparent;\n",
              "      border-bottom-color: var(--fill-color);\n",
              "    }\n",
              "  }\n",
              "</style>\n",
              "\n",
              "  <script>\n",
              "    async function quickchart(key) {\n",
              "      const quickchartButtonEl =\n",
              "        document.querySelector('#' + key + ' button');\n",
              "      quickchartButtonEl.disabled = true;  // To prevent multiple clicks.\n",
              "      quickchartButtonEl.classList.add('colab-df-spinner');\n",
              "      try {\n",
              "        const charts = await google.colab.kernel.invokeFunction(\n",
              "            'suggestCharts', [key], {});\n",
              "      } catch (error) {\n",
              "        console.error('Error during call to suggestCharts:', error);\n",
              "      }\n",
              "      quickchartButtonEl.classList.remove('colab-df-spinner');\n",
              "      quickchartButtonEl.classList.add('colab-df-quickchart-complete');\n",
              "    }\n",
              "    (() => {\n",
              "      let quickchartButtonEl =\n",
              "        document.querySelector('#df-511ff61f-b1ea-4143-9445-d8fe34d5fc1f button');\n",
              "      quickchartButtonEl.style.display =\n",
              "        google.colab.kernel.accessAllowed ? 'block' : 'none';\n",
              "    })();\n",
              "  </script>\n",
              "</div>\n",
              "    </div>\n",
              "  </div>\n"
            ]
          },
          "metadata": {},
          "execution_count": 5
        }
      ]
    },
    {
      "cell_type": "code",
      "source": [
        "print('No Frauds', round(data['Class'].value_counts()[0]/len(data) * 100,2), '% dari dataset')\n",
        "print('Frauds', round(data['Class'].value_counts()[1]/len(data) * 100,2), '% dari dataset')"
      ],
      "metadata": {
        "colab": {
          "base_uri": "https://localhost:8080/"
        },
        "id": "6TqCk7A1BuRa",
        "outputId": "6bdd9d49-69a7-430c-b9d5-6bfe210cd4c8"
      },
      "execution_count": null,
      "outputs": [
        {
          "output_type": "stream",
          "name": "stdout",
          "text": [
            "No Frauds 99.83 % dari dataset\n",
            "Frauds 0.17 % dari dataset\n"
          ]
        }
      ]
    },
    {
      "cell_type": "code",
      "source": [
        "import matplotlib.pyplot as plt\n",
        "\n",
        "# Data persentase\n",
        "fraud_percentage = [data['Class'].value_counts()[0] / len(data) * 100,\n",
        "                    data['Class'].value_counts()[1] / len(data) * 100]\n",
        "\n",
        "# Warna untuk setiap bagian\n",
        "colors = ['#FFD700','#3B3B3C']\n",
        "\n",
        "# Plot diagram lingkaran\n",
        "plt.pie(fraud_percentage, labels=['No Frauds', 'Frauds'], autopct='%1.2f%%', startangle=90, colors=colors,\n",
        "        wedgeprops={'edgecolor': 'black', 'linewidth': 1, 'antialiased': True})\n",
        "\n",
        "# Tambahkan judul\n",
        "plt.title('Fraud Percentage in the Dataset')\n",
        "\n",
        "# Tampilkan diagram lingkaran\n",
        "plt.show()\n"
      ],
      "metadata": {
        "colab": {
          "base_uri": "https://localhost:8080/",
          "height": 428
        },
        "id": "-FpJyxdpJTyf",
        "outputId": "cfd9fdb4-5e1e-4586-be01-0e4329824756"
      },
      "execution_count": null,
      "outputs": [
        {
          "output_type": "display_data",
          "data": {
            "text/plain": [
              "<Figure size 640x480 with 1 Axes>"
            ],
            "image/png": "[encoded data removed]"
          },
          "metadata": {}
        }
      ]
    },
    {
      "cell_type": "code",
      "source": [
        "# Menghitung Nilai Median dari data yang bertype Numerik\n",
        "data_creditcard = data.select_dtypes(include=np.number).median()\n",
        "data = pd.DataFrame(data_creditcard[:-1])"
      ],
      "metadata": {
        "id": "I910vhHZWUIV"
      },
      "execution_count": null,
      "outputs": []
    },
    {
      "cell_type": "code",
      "source": [
        "data.reset_index(inplace=True)\n",
        "newdata = data.copy()\n",
        "newdata.columns = ['transaksi', 'median']\n",
        "newdata.head()"
      ],
      "metadata": {
        "colab": {
          "base_uri": "https://localhost:8080/",
          "height": 206
        },
        "id": "AGwlcEAIW786",
        "outputId": "6a2d4e2d-2c42-4d1d-a04f-db4e87049034"
      },
      "execution_count": null,
      "outputs": [
        {
          "output_type": "execute_result",
          "data": {
            "text/plain": [
              "  transaksi        median\n",
              "0        V1  1.964756e+12\n",
              "1        V2  2.875949e+13\n",
              "2        V3  8.055800e+13\n",
              "3        V4 -1.045030e+13\n",
              "4        V5 -2.194554e+13"
            ],
            "text/html": [
              "\n",
              "  <div id=\"df-bf40cc42-0529-45d2-9a38-0cad8f5b07c5\" class=\"colab-df-container\">\n",
              "    <div>\n",
              "<style scoped>\n",
              "    .dataframe tbody tr th:only-of-type {\n",
              "        vertical-align: middle;\n",
              "    }\n",
              "\n",
              "    .dataframe tbody tr th {\n",
              "        vertical-align: top;\n",
              "    }\n",
              "\n",
              "    .dataframe thead th {\n",
              "        text-align: right;\n",
              "    }\n",
              "</style>\n",
              "<table border=\"1\" class=\"dataframe\">\n",
              "  <thead>\n",
              "    <tr style=\"text-align: right;\">\n",
              "      <th></th>\n",
              "      <th>transaksi</th>\n",
              "      <th>median</th>\n",
              "    </tr>\n",
              "  </thead>\n",
              "  <tbody>\n",
              "    <tr>\n",
              "      <th>0</th>\n",
              "      <td>V1</td>\n",
              "      <td>1.964756e+12</td>\n",
              "    </tr>\n",
              "    <tr>\n",
              "      <th>1</th>\n",
              "      <td>V2</td>\n",
              "      <td>2.875949e+13</td>\n",
              "    </tr>\n",
              "    <tr>\n",
              "      <th>2</th>\n",
              "      <td>V3</td>\n",
              "      <td>8.055800e+13</td>\n",
              "    </tr>\n",
              "    <tr>\n",
              "      <th>3</th>\n",
              "      <td>V4</td>\n",
              "      <td>-1.045030e+13</td>\n",
              "    </tr>\n",
              "    <tr>\n",
              "      <th>4</th>\n",
              "      <td>V5</td>\n",
              "      <td>-2.194554e+13</td>\n",
              "    </tr>\n",
              "  </tbody>\n",
              "</table>\n",
              "</div>\n",
              "    <div class=\"colab-df-buttons\">\n",
              "\n",
              "  <div class=\"colab-df-container\">\n",
              "    <button class=\"colab-df-convert\" onclick=\"convertToInteractive('df-bf40cc42-0529-45d2-9a38-0cad8f5b07c5')\"\n",
              "            title=\"Convert this dataframe to an interactive table.\"\n",
              "            style=\"display:none;\">\n",
              "\n",
              "  <svg xmlns=\"http://www.w3.org/2000/svg\" height=\"24px\" viewBox=\"0 -960 960 960\">\n",
              "    <path d=\"M120-120v-720h720v720H120Zm60-500h600v-160H180v160Zm220 220h160v-160H400v160Zm0 220h160v-160H400v160ZM180-400h160v-160H180v160Zm440 0h160v-160H620v160ZM180-180h160v-160H180v160Zm440 0h160v-160H620v160Z\"/>\n",
              "  </svg>\n",
              "    </button>\n",
              "\n",
              "  <style>\n",
              "    .colab-df-container {\n",
              "      display:flex;\n",
              "      gap: 12px;\n",
              "    }\n",
              "\n",
              "    .colab-df-convert {\n",
              "      background-color: #E8F0FE;\n",
              "      border: none;\n",
              "      border-radius: 50%;\n",
              "      cursor: pointer;\n",
              "      display: none;\n",
              "      fill: #1967D2;\n",
              "      height: 32px;\n",
              "      padding: 0 0 0 0;\n",
              "      width: 32px;\n",
              "    }\n",
              "\n",
              "    .colab-df-convert:hover {\n",
              "      background-color: #E2EBFA;\n",
              "      box-shadow: 0px 1px 2px rgba(60, 64, 67, 0.3), 0px 1px 3px 1px rgba(60, 64, 67, 0.15);\n",
              "      fill: #174EA6;\n",
              "    }\n",
              "\n",
              "    .colab-df-buttons div {\n",
              "      margin-bottom: 4px;\n",
              "    }\n",
              "\n",
              "    [theme=dark] .colab-df-convert {\n",
              "      background-color: #3B4455;\n",
              "      fill: #D2E3FC;\n",
              "    }\n",
              "\n",
              "    [theme=dark] .colab-df-convert:hover {\n",
              "      background-color: #434B5C;\n",
              "      box-shadow: 0px 1px 3px 1px rgba(0, 0, 0, 0.15);\n",
              "      filter: drop-shadow(0px 1px 2px rgba(0, 0, 0, 0.3));\n",
              "      fill: #FFFFFF;\n",
              "    }\n",
              "  </style>\n",
              "\n",
              "    <script>\n",
              "      const buttonEl =\n",
              "        document.querySelector('#df-bf40cc42-0529-45d2-9a38-0cad8f5b07c5 button.colab-df-convert');\n",
              "      buttonEl.style.display =\n",
              "        google.colab.kernel.accessAllowed ? 'block' : 'none';\n",
              "\n",
              "      async function convertToInteractive(key) {\n",
              "        const element = document.querySelector('#df-bf40cc42-0529-45d2-9a38-0cad8f5b07c5');\n",
              "        const dataTable =\n",
              "          await google.colab.kernel.invokeFunction('convertToInteractive',\n",
              "                                                    [key], {});\n",
              "        if (!dataTable) return;\n",
              "\n",
              "        const docLinkHtml = 'Like what you see? Visit the ' +\n",
              "          '<a target=\"_blank\" href=https://colab.research.google.com/notebooks/data_table.ipynb>data table notebook</a>'\n",
              "          + ' to learn more about interactive tables.';\n",
              "        element.innerHTML = '';\n",
              "        dataTable['output_type'] = 'display_data';\n",
              "        await google.colab.output.renderOutput(dataTable, element);\n",
              "        const docLink = document.createElement('div');\n",
              "        docLink.innerHTML = docLinkHtml;\n",
              "        element.appendChild(docLink);\n",
              "      }\n",
              "    </script>\n",
              "  </div>\n",
              "\n",
              "\n",
              "<div id=\"df-ef341027-f0c5-4372-b434-b1f8d0772ead\">\n",
              "  <button class=\"colab-df-quickchart\" onclick=\"quickchart('df-ef341027-f0c5-4372-b434-b1f8d0772ead')\"\n",
              "            title=\"Suggest charts\"\n",
              "            style=\"display:none;\">\n",
              "\n",
              "<svg xmlns=\"http://www.w3.org/2000/svg\" height=\"24px\"viewBox=\"0 0 24 24\"\n",
              "     width=\"24px\">\n",
              "    <g>\n",
              "        <path d=\"M19 3H5c-1.1 0-2 .9-2 2v14c0 1.1.9 2 2 2h14c1.1 0 2-.9 2-2V5c0-1.1-.9-2-2-2zM9 17H7v-7h2v7zm4 0h-2V7h2v10zm4 0h-2v-4h2v4z\"/>\n",
              "    </g>\n",
              "</svg>\n",
              "  </button>\n",
              "\n",
              "<style>\n",
              "  .colab-df-quickchart {\n",
              "      --bg-color: #E8F0FE;\n",
              "      --fill-color: #1967D2;\n",
              "      --hover-bg-color: #E2EBFA;\n",
              "      --hover-fill-color: #174EA6;\n",
              "      --disabled-fill-color: #AAA;\n",
              "      --disabled-bg-color: #DDD;\n",
              "  }\n",
              "\n",
              "  [theme=dark] .colab-df-quickchart {\n",
              "      --bg-color: #3B4455;\n",
              "      --fill-color: #D2E3FC;\n",
              "      --hover-bg-color: #434B5C;\n",
              "      --hover-fill-color: #FFFFFF;\n",
              "      --disabled-bg-color: #3B4455;\n",
              "      --disabled-fill-color: #666;\n",
              "  }\n",
              "\n",
              "  .colab-df-quickchart {\n",
              "    background-color: var(--bg-color);\n",
              "    border: none;\n",
              "    border-radius: 50%;\n",
              "    cursor: pointer;\n",
              "    display: none;\n",
              "    fill: var(--fill-color);\n",
              "    height: 32px;\n",
              "    padding: 0;\n",
              "    width: 32px;\n",
              "  }\n",
              "\n",
              "  .colab-df-quickchart:hover {\n",
              "    background-color: var(--hover-bg-color);\n",
              "    box-shadow: 0 1px 2px rgba(60, 64, 67, 0.3), 0 1px 3px 1px rgba(60, 64, 67, 0.15);\n",
              "    fill: var(--button-hover-fill-color);\n",
              "  }\n",
              "\n",
              "  .colab-df-quickchart-complete:disabled,\n",
              "  .colab-df-quickchart-complete:disabled:hover {\n",
              "    background-color: var(--disabled-bg-color);\n",
              "    fill: var(--disabled-fill-color);\n",
              "    box-shadow: none;\n",
              "  }\n",
              "\n",
              "  .colab-df-spinner {\n",
              "    border: 2px solid var(--fill-color);\n",
              "    border-color: transparent;\n",
              "    border-bottom-color: var(--fill-color);\n",
              "    animation:\n",
              "      spin 1s steps(1) infinite;\n",
              "  }\n",
              "\n",
              "  @keyframes spin {\n",
              "    0% {\n",
              "      border-color: transparent;\n",
              "      border-bottom-color: var(--fill-color);\n",
              "      border-left-color: var(--fill-color);\n",
              "    }\n",
              "    20% {\n",
              "      border-color: transparent;\n",
              "      border-left-color: var(--fill-color);\n",
              "      border-top-color: var(--fill-color);\n",
              "    }\n",
              "    30% {\n",
              "      border-color: transparent;\n",
              "      border-left-color: var(--fill-color);\n",
              "      border-top-color: var(--fill-color);\n",
              "      border-right-color: var(--fill-color);\n",
              "    }\n",
              "    40% {\n",
              "      border-color: transparent;\n",
              "      border-right-color: var(--fill-color);\n",
              "      border-top-color: var(--fill-color);\n",
              "    }\n",
              "    60% {\n",
              "      border-color: transparent;\n",
              "      border-right-color: var(--fill-color);\n",
              "    }\n",
              "    80% {\n",
              "      border-color: transparent;\n",
              "      border-right-color: var(--fill-color);\n",
              "      border-bottom-color: var(--fill-color);\n",
              "    }\n",
              "    90% {\n",
              "      border-color: transparent;\n",
              "      border-bottom-color: var(--fill-color);\n",
              "    }\n",
              "  }\n",
              "</style>\n",
              "\n",
              "  <script>\n",
              "    async function quickchart(key) {\n",
              "      const quickchartButtonEl =\n",
              "        document.querySelector('#' + key + ' button');\n",
              "      quickchartButtonEl.disabled = true;  // To prevent multiple clicks.\n",
              "      quickchartButtonEl.classList.add('colab-df-spinner');\n",
              "      try {\n",
              "        const charts = await google.colab.kernel.invokeFunction(\n",
              "            'suggestCharts', [key], {});\n",
              "      } catch (error) {\n",
              "        console.error('Error during call to suggestCharts:', error);\n",
              "      }\n",
              "      quickchartButtonEl.classList.remove('colab-df-spinner');\n",
              "      quickchartButtonEl.classList.add('colab-df-quickchart-complete');\n",
              "    }\n",
              "    (() => {\n",
              "      let quickchartButtonEl =\n",
              "        document.querySelector('#df-ef341027-f0c5-4372-b434-b1f8d0772ead button');\n",
              "      quickchartButtonEl.style.display =\n",
              "        google.colab.kernel.accessAllowed ? 'block' : 'none';\n",
              "    })();\n",
              "  </script>\n",
              "</div>\n",
              "    </div>\n",
              "  </div>\n"
            ]
          },
          "metadata": {},
          "execution_count": 9
        }
      ]
    },
    {
      "cell_type": "code",
      "source": [
        "newdata.shape"
      ],
      "metadata": {
        "colab": {
          "base_uri": "https://localhost:8080/"
        },
        "id": "tWl2gaHbXWR4",
        "outputId": "596d1020-2bbd-49a7-e0ad-093c7ab8360a"
      },
      "execution_count": null,
      "outputs": [
        {
          "output_type": "execute_result",
          "data": {
            "text/plain": [
              "(28, 2)"
            ]
          },
          "metadata": {},
          "execution_count": 10
        }
      ]
    },
    {
      "cell_type": "code",
      "source": [
        "newdata.describe()"
      ],
      "metadata": {
        "colab": {
          "base_uri": "https://localhost:8080/",
          "height": 300
        },
        "id": "h4lcxitbXL8x",
        "outputId": "0448d9a7-3c61-4b5f-9603-aeda2e91cafc"
      },
      "execution_count": null,
      "outputs": [
        {
          "output_type": "execute_result",
          "data": {
            "text/plain": [
              "             median\n",
              "count  2.800000e+01\n",
              "mean   4.713652e+11\n",
              "std    5.695018e+13\n",
              "min   -1.176460e+14\n",
              "25%   -2.235283e+13\n",
              "50%    2.184004e+12\n",
              "75%    2.724444e+13\n",
              "max    1.056419e+14"
            ],
            "text/html": [
              "\n",
              "  <div id=\"df-9ffca57e-b192-4b54-8125-acda73f64414\" class=\"colab-df-container\">\n",
              "    <div>\n",
              "<style scoped>\n",
              "    .dataframe tbody tr th:only-of-type {\n",
              "        vertical-align: middle;\n",
              "    }\n",
              "\n",
              "    .dataframe tbody tr th {\n",
              "        vertical-align: top;\n",
              "    }\n",
              "\n",
              "    .dataframe thead th {\n",
              "        text-align: right;\n",
              "    }\n",
              "</style>\n",
              "<table border=\"1\" class=\"dataframe\">\n",
              "  <thead>\n",
              "    <tr style=\"text-align: right;\">\n",
              "      <th></th>\n",
              "      <th>median</th>\n",
              "    </tr>\n",
              "  </thead>\n",
              "  <tbody>\n",
              "    <tr>\n",
              "      <th>count</th>\n",
              "      <td>2.800000e+01</td>\n",
              "    </tr>\n",
              "    <tr>\n",
              "      <th>mean</th>\n",
              "      <td>4.713652e+11</td>\n",
              "    </tr>\n",
              "    <tr>\n",
              "      <th>std</th>\n",
              "      <td>5.695018e+13</td>\n",
              "    </tr>\n",
              "    <tr>\n",
              "      <th>min</th>\n",
              "      <td>-1.176460e+14</td>\n",
              "    </tr>\n",
              "    <tr>\n",
              "      <th>25%</th>\n",
              "      <td>-2.235283e+13</td>\n",
              "    </tr>\n",
              "    <tr>\n",
              "      <th>50%</th>\n",
              "      <td>2.184004e+12</td>\n",
              "    </tr>\n",
              "    <tr>\n",
              "      <th>75%</th>\n",
              "      <td>2.724444e+13</td>\n",
              "    </tr>\n",
              "    <tr>\n",
              "      <th>max</th>\n",
              "      <td>1.056419e+14</td>\n",
              "    </tr>\n",
              "  </tbody>\n",
              "</table>\n",
              "</div>\n",
              "    <div class=\"colab-df-buttons\">\n",
              "\n",
              "  <div class=\"colab-df-container\">\n",
              "    <button class=\"colab-df-convert\" onclick=\"convertToInteractive('df-9ffca57e-b192-4b54-8125-acda73f64414')\"\n",
              "            title=\"Convert this dataframe to an interactive table.\"\n",
              "            style=\"display:none;\">\n",
              "\n",
              "  <svg xmlns=\"http://www.w3.org/2000/svg\" height=\"24px\" viewBox=\"0 -960 960 960\">\n",
              "    <path d=\"M120-120v-720h720v720H120Zm60-500h600v-160H180v160Zm220 220h160v-160H400v160Zm0 220h160v-160H400v160ZM180-400h160v-160H180v160Zm440 0h160v-160H620v160ZM180-180h160v-160H180v160Zm440 0h160v-160H620v160Z\"/>\n",
              "  </svg>\n",
              "    </button>\n",
              "\n",
              "  <style>\n",
              "    .colab-df-container {\n",
              "      display:flex;\n",
              "      gap: 12px;\n",
              "    }\n",
              "\n",
              "    .colab-df-convert {\n",
              "      background-color: #E8F0FE;\n",
              "      border: none;\n",
              "      border-radius: 50%;\n",
              "      cursor: pointer;\n",
              "      display: none;\n",
              "      fill: #1967D2;\n",
              "      height: 32px;\n",
              "      padding: 0 0 0 0;\n",
              "      width: 32px;\n",
              "    }\n",
              "\n",
              "    .colab-df-convert:hover {\n",
              "      background-color: #E2EBFA;\n",
              "      box-shadow: 0px 1px 2px rgba(60, 64, 67, 0.3), 0px 1px 3px 1px rgba(60, 64, 67, 0.15);\n",
              "      fill: #174EA6;\n",
              "    }\n",
              "\n",
              "    .colab-df-buttons div {\n",
              "      margin-bottom: 4px;\n",
              "    }\n",
              "\n",
              "    [theme=dark] .colab-df-convert {\n",
              "      background-color: #3B4455;\n",
              "      fill: #D2E3FC;\n",
              "    }\n",
              "\n",
              "    [theme=dark] .colab-df-convert:hover {\n",
              "      background-color: #434B5C;\n",
              "      box-shadow: 0px 1px 3px 1px rgba(0, 0, 0, 0.15);\n",
              "      filter: drop-shadow(0px 1px 2px rgba(0, 0, 0, 0.3));\n",
              "      fill: #FFFFFF;\n",
              "    }\n",
              "  </style>\n",
              "\n",
              "    <script>\n",
              "      const buttonEl =\n",
              "        document.querySelector('#df-9ffca57e-b192-4b54-8125-acda73f64414 button.colab-df-convert');\n",
              "      buttonEl.style.display =\n",
              "        google.colab.kernel.accessAllowed ? 'block' : 'none';\n",
              "\n",
              "      async function convertToInteractive(key) {\n",
              "        const element = document.querySelector('#df-9ffca57e-b192-4b54-8125-acda73f64414');\n",
              "        const dataTable =\n",
              "          await google.colab.kernel.invokeFunction('convertToInteractive',\n",
              "                                                    [key], {});\n",
              "        if (!dataTable) return;\n",
              "\n",
              "        const docLinkHtml = 'Like what you see? Visit the ' +\n",
              "          '<a target=\"_blank\" href=https://colab.research.google.com/notebooks/data_table.ipynb>data table notebook</a>'\n",
              "          + ' to learn more about interactive tables.';\n",
              "        element.innerHTML = '';\n",
              "        dataTable['output_type'] = 'display_data';\n",
              "        await google.colab.output.renderOutput(dataTable, element);\n",
              "        const docLink = document.createElement('div');\n",
              "        docLink.innerHTML = docLinkHtml;\n",
              "        element.appendChild(docLink);\n",
              "      }\n",
              "    </script>\n",
              "  </div>\n",
              "\n",
              "\n",
              "<div id=\"df-15d10d27-e403-49d0-9b5d-942ce89d0958\">\n",
              "  <button class=\"colab-df-quickchart\" onclick=\"quickchart('df-15d10d27-e403-49d0-9b5d-942ce89d0958')\"\n",
              "            title=\"Suggest charts\"\n",
              "            style=\"display:none;\">\n",
              "\n",
              "<svg xmlns=\"http://www.w3.org/2000/svg\" height=\"24px\"viewBox=\"0 0 24 24\"\n",
              "     width=\"24px\">\n",
              "    <g>\n",
              "        <path d=\"M19 3H5c-1.1 0-2 .9-2 2v14c0 1.1.9 2 2 2h14c1.1 0 2-.9 2-2V5c0-1.1-.9-2-2-2zM9 17H7v-7h2v7zm4 0h-2V7h2v10zm4 0h-2v-4h2v4z\"/>\n",
              "    </g>\n",
              "</svg>\n",
              "  </button>\n",
              "\n",
              "<style>\n",
              "  .colab-df-quickchart {\n",
              "      --bg-color: #E8F0FE;\n",
              "      --fill-color: #1967D2;\n",
              "      --hover-bg-color: #E2EBFA;\n",
              "      --hover-fill-color: #174EA6;\n",
              "      --disabled-fill-color: #AAA;\n",
              "      --disabled-bg-color: #DDD;\n",
              "  }\n",
              "\n",
              "  [theme=dark] .colab-df-quickchart {\n",
              "      --bg-color: #3B4455;\n",
              "      --fill-color: #D2E3FC;\n",
              "      --hover-bg-color: #434B5C;\n",
              "      --hover-fill-color: #FFFFFF;\n",
              "      --disabled-bg-color: #3B4455;\n",
              "      --disabled-fill-color: #666;\n",
              "  }\n",
              "\n",
              "  .colab-df-quickchart {\n",
              "    background-color: var(--bg-color);\n",
              "    border: none;\n",
              "    border-radius: 50%;\n",
              "    cursor: pointer;\n",
              "    display: none;\n",
              "    fill: var(--fill-color);\n",
              "    height: 32px;\n",
              "    padding: 0;\n",
              "    width: 32px;\n",
              "  }\n",
              "\n",
              "  .colab-df-quickchart:hover {\n",
              "    background-color: var(--hover-bg-color);\n",
              "    box-shadow: 0 1px 2px rgba(60, 64, 67, 0.3), 0 1px 3px 1px rgba(60, 64, 67, 0.15);\n",
              "    fill: var(--button-hover-fill-color);\n",
              "  }\n",
              "\n",
              "  .colab-df-quickchart-complete:disabled,\n",
              "  .colab-df-quickchart-complete:disabled:hover {\n",
              "    background-color: var(--disabled-bg-color);\n",
              "    fill: var(--disabled-fill-color);\n",
              "    box-shadow: none;\n",
              "  }\n",
              "\n",
              "  .colab-df-spinner {\n",
              "    border: 2px solid var(--fill-color);\n",
              "    border-color: transparent;\n",
              "    border-bottom-color: var(--fill-color);\n",
              "    animation:\n",
              "      spin 1s steps(1) infinite;\n",
              "  }\n",
              "\n",
              "  @keyframes spin {\n",
              "    0% {\n",
              "      border-color: transparent;\n",
              "      border-bottom-color: var(--fill-color);\n",
              "      border-left-color: var(--fill-color);\n",
              "    }\n",
              "    20% {\n",
              "      border-color: transparent;\n",
              "      border-left-color: var(--fill-color);\n",
              "      border-top-color: var(--fill-color);\n",
              "    }\n",
              "    30% {\n",
              "      border-color: transparent;\n",
              "      border-left-color: var(--fill-color);\n",
              "      border-top-color: var(--fill-color);\n",
              "      border-right-color: var(--fill-color);\n",
              "    }\n",
              "    40% {\n",
              "      border-color: transparent;\n",
              "      border-right-color: var(--fill-color);\n",
              "      border-top-color: var(--fill-color);\n",
              "    }\n",
              "    60% {\n",
              "      border-color: transparent;\n",
              "      border-right-color: var(--fill-color);\n",
              "    }\n",
              "    80% {\n",
              "      border-color: transparent;\n",
              "      border-right-color: var(--fill-color);\n",
              "      border-bottom-color: var(--fill-color);\n",
              "    }\n",
              "    90% {\n",
              "      border-color: transparent;\n",
              "      border-bottom-color: var(--fill-color);\n",
              "    }\n",
              "  }\n",
              "</style>\n",
              "\n",
              "  <script>\n",
              "    async function quickchart(key) {\n",
              "      const quickchartButtonEl =\n",
              "        document.querySelector('#' + key + ' button');\n",
              "      quickchartButtonEl.disabled = true;  // To prevent multiple clicks.\n",
              "      quickchartButtonEl.classList.add('colab-df-spinner');\n",
              "      try {\n",
              "        const charts = await google.colab.kernel.invokeFunction(\n",
              "            'suggestCharts', [key], {});\n",
              "      } catch (error) {\n",
              "        console.error('Error during call to suggestCharts:', error);\n",
              "      }\n",
              "      quickchartButtonEl.classList.remove('colab-df-spinner');\n",
              "      quickchartButtonEl.classList.add('colab-df-quickchart-complete');\n",
              "    }\n",
              "    (() => {\n",
              "      let quickchartButtonEl =\n",
              "        document.querySelector('#df-15d10d27-e403-49d0-9b5d-942ce89d0958 button');\n",
              "      quickchartButtonEl.style.display =\n",
              "        google.colab.kernel.accessAllowed ? 'block' : 'none';\n",
              "    })();\n",
              "  </script>\n",
              "</div>\n",
              "    </div>\n",
              "  </div>\n"
            ]
          },
          "metadata": {},
          "execution_count": 11
        }
      ]
    },
    {
      "cell_type": "code",
      "source": [
        "newdata.columns"
      ],
      "metadata": {
        "colab": {
          "base_uri": "https://localhost:8080/"
        },
        "id": "kyrY7wRU22IX",
        "outputId": "60d780cf-3df9-4f29-e59e-9256e39d9609"
      },
      "execution_count": null,
      "outputs": [
        {
          "output_type": "execute_result",
          "data": {
            "text/plain": [
              "Index(['transaksi', 'median'], dtype='object')"
            ]
          },
          "metadata": {},
          "execution_count": 12
        }
      ]
    },
    {
      "cell_type": "code",
      "source": [
        "newdata.info()"
      ],
      "metadata": {
        "colab": {
          "base_uri": "https://localhost:8080/"
        },
        "id": "42mPXUB8b92w",
        "outputId": "ec00068a-14c4-4f7f-b390-eaf72f413552"
      },
      "execution_count": null,
      "outputs": [
        {
          "output_type": "stream",
          "name": "stdout",
          "text": [
            "<class 'pandas.core.frame.DataFrame'>\n",
            "RangeIndex: 28 entries, 0 to 27\n",
            "Data columns (total 2 columns):\n",
            " #   Column     Non-Null Count  Dtype  \n",
            "---  ------     --------------  -----  \n",
            " 0   transaksi  28 non-null     object \n",
            " 1   median     28 non-null     float64\n",
            "dtypes: float64(1), object(1)\n",
            "memory usage: 576.0+ bytes\n"
          ]
        }
      ]
    },
    {
      "cell_type": "code",
      "source": [
        "newdata.isnull().sum()"
      ],
      "metadata": {
        "colab": {
          "base_uri": "https://localhost:8080/"
        },
        "id": "kiW4t0w828rx",
        "outputId": "9b3b1f43-da61-4bc2-cca3-cecf33c85fb2"
      },
      "execution_count": null,
      "outputs": [
        {
          "output_type": "execute_result",
          "data": {
            "text/plain": [
              "transaksi    0\n",
              "median       0\n",
              "dtype: int64"
            ]
          },
          "metadata": {},
          "execution_count": 14
        }
      ]
    },
    {
      "cell_type": "code",
      "source": [
        "percentile_95 = np.percentile(newdata['median'], 95, method='median_unbiased')\n",
        "percentile_5 = np.percentile(newdata['median'], 5, method='median_unbiased')\n",
        "greater_than_95 = (newdata[['median']] > percentile_95)\n",
        "smaller_than_5 = (newdata[['median']] < percentile_5)"
      ],
      "metadata": {
        "id": "7VXM3oR-Xhq4"
      },
      "execution_count": null,
      "outputs": []
    },
    {
      "cell_type": "code",
      "source": [
        " #Membuat kolom baru dengan nama colors untuk menyimpan warna setiap kondisi diatas\n",
        "newdata['colors'] = np.where(greater_than_95,'r',np.where(smaller_than_5,'r','b'))"
      ],
      "metadata": {
        "id": "hJqR4rdhdY1Z"
      },
      "execution_count": null,
      "outputs": []
    },
    {
      "cell_type": "code",
      "source": [
        "import matplotlib.pyplot as plt\n",
        "newdata.plot.scatter(x='transaksi',y='median',c = newdata['colors'].apply(lambda x: dict(r='red', b='blue')[x]),\n",
        "           figsize=(10, 5),title='Median Credit Card Fraud Detection',xlabel='Transaksi',ylabel='Median Fraud Rate')\n",
        "plt.xticks(rotation=65);"
      ],
      "metadata": {
        "colab": {
          "base_uri": "https://localhost:8080/",
          "height": 504
        },
        "id": "YvL_tGl-bzR1",
        "outputId": "a2b3f135-649b-462b-ce96-63dfa14b734e"
      },
      "execution_count": null,
      "outputs": [
        {
          "output_type": "display_data",
          "data": {
            "text/plain": [
              "<Figure size 1000x500 with 1 Axes>"
            ],
            "image/png": "[encoded data removed]"
          },
          "metadata": {}
        }
      ]
    },
    {
      "cell_type": "markdown",
      "source": [
        "##Algoritma yang difunakan untuk deteksi anomali atau outlier"
      ],
      "metadata": {
        "id": "1mA_K73EELbD"
      }
    },
    {
      "cell_type": "markdown",
      "source": [
        "###1. Pendekatan Unsupervised dengan algoritma Local Outlier Factor (LOF)"
      ],
      "metadata": {
        "id": "v3TIOHdUeiNP"
      }
    },
    {
      "cell_type": "markdown",
      "source": [
        "Local Outlier Factor (LOF) diperkenalkan sebagai pendekatan baru untuk mendeteksi outlier pada tahun 2000 oleh Breunig dan rekannya. Sebelumnya, deteksi anomali berfokus pada tugas klasifikasi biner, di mana pengklasifikasi dilatih untuk mendeteksi apakah sesuatu merupakan outlier berdasarkan data sampel.Pendekatan ini memiliki kekurangan, yang diatasi oleh pendekatan baru ini dengan memberikan nilai yang menunjukkan sejauh mana sesuatu merupakan outlier—LOF. Inovasi utama dalam metode ini adalah fitur lokalitas: Titik data dibandingkan dengan lingkungan lokal—bukan keseluruhan kumpulan data—untuk menilai seberapa terisolasi titik tertentu menggunakan algoritme pengelompokan tanpa pengawasan berbasis kepadatan seperti k-nearest neighbour (KNN)."
      ],
      "metadata": {
        "id": "SeXun-8PfZ1b"
      }
    },
    {
      "cell_type": "code",
      "source": [
        "from sklearn.neighbors import LocalOutlierFactor\n",
        "model_LOF = LocalOutlierFactor()\n",
        "LOF_predictions = model_LOF.fit_predict(newdata[['median']])\n",
        "model_LOF_scores = model_LOF.negative_outlier_factor_\n",
        "newdata['LOF_anomaly_scores'] = model_LOF_scores\n",
        "newdata['LOF_anomaly'] = LOF_predictions"
      ],
      "metadata": {
        "id": "aYrq_8Y-fedB"
      },
      "execution_count": null,
      "outputs": []
    },
    {
      "cell_type": "code",
      "source": [
        "plt.style.use(\"seaborn\")\n",
        "fig, ax = plt.subplots(1, figsize=(9, 5), sharex=True, sharey=False)\n",
        "ax.scatter(newdata['transaksi'], newdata['median'],c=newdata['LOF_anomaly'],cmap='RdBu',alpha=0.5 )\n",
        "ax.set_title(\"Local Outlier Factor Anomaly Detection\")\n",
        "\n",
        "for anomaly in newdata[newdata['LOF_anomaly'] == -1]['transaksi']:\n",
        "    ax.annotate(anomaly, xy=(anomaly, newdata[newdata['transaksi'] == anomaly]['median']),\n",
        "                 xytext=(anomaly,newdata[newdata['transaksi'] == anomaly]['median'] + 0.2))\n",
        "ax.get_xaxis().set_visible(False)"
      ],
      "metadata": {
        "colab": {
          "base_uri": "https://localhost:8080/"
        },
        "id": "QI7Njr_ufwAB",
        "outputId": "74cc6510-8e3e-4794-efbf-04de11dfca7f"
      },
      "execution_count": null,
      "outputs": [
        {
          "output_type": "stream",
          "name": "stderr",
          "text": [
            "<ipython-input-21-ed104117212d>:1: MatplotlibDeprecationWarning: The seaborn styles shipped by Matplotlib are deprecated since 3.6, as they no longer correspond to the styles shipped by seaborn. However, they will remain available as 'seaborn-v0_8-<style>'. Alternatively, directly use the seaborn API instead.\n",
            "  plt.style.use(\"seaborn\")\n"
          ]
        },
        {
          "output_type": "display_data",
          "data": {
            "text/plain": [
              "<Figure size 900x500 with 1 Axes>"
            ],
            "image/png": "[encoded data removed]"
          },
          "metadata": {}
        }
      ]
    },
    {
      "cell_type": "markdown",
      "source": [
        "Model LOF scikit-learn hanya mengidentifikasi tahun 1974 dan 1980 sebagai outlier. Skenario ini menggambarkan salah satu kelemahan utama algoritme ini yaitu bahwa Algoritma ini sangat sensitif terhadap nilai parameter. Model LocalOutlierFactor di scikit-learn menggunakan nilai default k=20 untuk jumlah tetangga terdekat dan fungsi jarak Euclidean untuk menghitung jarak jangkauan. Perubahan kecil pada nilai parameter ini dapat memengaruhi hasil secara signifikan, sehingga berpotensi mengarah pada identifikasi kumpulan outlier yang berbeda. Hal ini dapat mempersulit pencapaian hasil yang konsisten dan interpretasi keluaran model LOF secara akurat. Untuk menggambarkan betapa sensitifnya algoritma LOF terhadap nilai parameter, coba gunakan nilai yang berbeda untuk jumlah tetangga terdekat. Pada kode di bawah, Anda akan membuat instance baru model LocalOutlierFactor dengan nilai n_neighbors=10."
      ],
      "metadata": {
        "id": "a_nJ5RfMhQeJ"
      }
    },
    {
      "cell_type": "code",
      "source": [
        "model_LOF_10 = LocalOutlierFactor(n_neighbors=10)\n",
        "LOF_predictions_10 = model_LOF_10.fit_predict(newdata[['median']])\n",
        "model_LOF_scores_10= model_LOF_10.negative_outlier_factor_\n",
        "newdata['LOF_anomaly_score_10'] = model_LOF_scores_10\n",
        "newdata['LOF_anomaly_10'] = LOF_predictions_10"
      ],
      "metadata": {
        "id": "jq_nfs9GhSqv"
      },
      "execution_count": null,
      "outputs": []
    },
    {
      "cell_type": "code",
      "source": [
        "plt.style.use(\"seaborn\")\n",
        "fig, ax2 = plt.subplots(1, figsize=(9, 5), sharex=True, sharey=False)\n",
        "ax2.scatter(newdata['transaksi'], newdata['median'],c=newdata['LOF_anomaly_10'],cmap='RdBu',alpha=0.5 )\n",
        "ax2.set_title(\"Local Outlier Factor Anomaly Detection\")\n",
        "\n",
        "for anomaly in newdata[newdata['LOF_anomaly_10'] == -1]['transaksi']:\n",
        "    ax2.annotate(anomaly, xy=(anomaly, newdata[newdata['transaksi'] == anomaly]['median']),\n",
        "                 xytext=(anomaly,newdata[newdata['transaksi'] == anomaly]['median'] + 0.2))\n",
        "ax2.get_xaxis().set_visible(False)"
      ],
      "metadata": {
        "colab": {
          "base_uri": "https://localhost:8080/"
        },
        "id": "QZpCJJKahxX8",
        "outputId": "a7ee8fba-c96f-439d-ecd0-58bdd0d47144"
      },
      "execution_count": null,
      "outputs": [
        {
          "output_type": "stream",
          "name": "stderr",
          "text": [
            "<ipython-input-23-c5b81c2a3ca3>:1: MatplotlibDeprecationWarning: The seaborn styles shipped by Matplotlib are deprecated since 3.6, as they no longer correspond to the styles shipped by seaborn. However, they will remain available as 'seaborn-v0_8-<style>'. Alternatively, directly use the seaborn API instead.\n",
            "  plt.style.use(\"seaborn\")\n"
          ]
        },
        {
          "output_type": "display_data",
          "data": {
            "text/plain": [
              "<Figure size 900x500 with 1 Axes>"
            ],
            "image/png": "[encoded data removed]"
          },
          "metadata": {}
        }
      ]
    },
    {
      "cell_type": "markdown",
      "source": [
        "Dengan menggunakan nilai n_neighbours=10, maka model mempertimbangkan 10 tetangga terdekat dari setiap titik saat menghitung skor anomali. Ini menghasilkan hasil yang berbeda dari model default dengan nilai n_neighbours=20. Dengan demikian, engubah nilai parameter dapat mempengaruhi hasil algoritma LOF. Untuk membandingkan hasil model LOF dengan nilai parameter yang berbeda, Seperti yang Anda lihat, model LocalOutlierFactor dengan 10 k-tetangga menggunakan tingkat inflasi median dunia untuk secara akurat mengidentifikasi tingkat inflasi tinggi pada tahun 1970an dan awal 1980an(ada 4 titik yang ideteksi outlier). Hal ini merupakan pencapaian yang signifikan, karena analisis ekonomi sebelumnya juga mengidentifikasi tahun-tahun ini sebagai tahun-tahun yang tidak menguntungkan.Namun, berbeda dengan analisis sebelumnya (dengan regresi), ternyata dengan LOF tidak ada model yang menandai tahun 2015 dan 2016 sebagai anomali. Perbedaan ini menyoroti pentingnya menganalisis secara cermat hasil berbagai model dan mempertimbangkan berbagai pendekatan saat melakukan analisis ekonomi."
      ],
      "metadata": {
        "id": "kuMKkPe6inI3"
      }
    },
    {
      "cell_type": "markdown",
      "source": [
        "###2. Pendekatan dengan algoritma Isolation Forest"
      ],
      "metadata": {
        "id": "3Wp_-tjDebzh"
      }
    },
    {
      "cell_type": "markdown",
      "source": [
        "Algoritma Isolation Forest (iForest) adalah model berbasis pohon (tree) yang dirancang untuk mengatasi kelemahan pendekatan berbasis kepadatan seperti LOF. iForest membangun Ensemble pohon isolasi, atau iTrees, untuk kumpulan data tertentu. Anomali diidentifikasi sebagai contoh dengan panjang jalur rata-rata yang lebih pendek di iTrees, karena jumlahnya “sedikit dan berbeda” dan, oleh karena itu, lebih rentan terhadap isolasi dibandingkan titik normal.Pada Isolation Forest, titik normal biasanya diisolasi pada simpul daun pohon, atau dikenal sebagai ujung pohon yang lebih dalam. Sebaliknya, titik-titik anomali diisolasi lebih dekat ke akar pohon. Hal ini karena titik normal lebih mirip dengan titik lain dalam subgrupnya dan memerlukan lebih banyak pemisahan untuk dapat diisolasi sepenuhnya, sedangkan titik anomali kurang serupa dan dapat diisolasi dengan lebih sedikit pemisahan."
      ],
      "metadata": {
        "id": "9hzyeM0Kjgpf"
      }
    },
    {
      "cell_type": "code",
      "source": [
        "from sklearn.ensemble import IsolationForest\n",
        "model_IF = IsolationForest()\n",
        "model_IF.fit(newdata[['median']])\n",
        "newdata['IF_anomaly_scores'] = model_IF.decision_function(newdata[['median']])\n",
        "newdata['IF_anomaly'] = model_IF.predict(newdata[['median']])"
      ],
      "metadata": {
        "id": "vGIKz8lrj793"
      },
      "execution_count": null,
      "outputs": []
    },
    {
      "cell_type": "code",
      "source": [
        "plt.style.use(\"seaborn\")\n",
        "fig, ax3 = plt.subplots(1, figsize=(9, 5), sharex=True, sharey=False)\n",
        "ax3.scatter(newdata['transaksi'], newdata['median'],c=newdata['IF_anomaly'],cmap='RdBu',alpha=0.5 )\n",
        "ax3.set_title(\"Isolation Forest Anomaly Detection\")\n",
        "\n",
        "for anomaly in newdata[newdata['IF_anomaly'] == -1]['transaksi']:\n",
        "    ax3.annotate(anomaly, xy=(anomaly, newdata[newdata['transaksi'] == anomaly]['median']),\n",
        "                 xytext=(anomaly,newdata[newdata['transaksi'] == anomaly]['median'] + 0.2))\n",
        "ax3.get_xaxis().set_visible(False)"
      ],
      "metadata": {
        "colab": {
          "base_uri": "https://localhost:8080/"
        },
        "id": "X1hciNqkkWbx",
        "outputId": "d522ee46-d93c-4f13-e3f3-477757cfc6dd"
      },
      "execution_count": null,
      "outputs": [
        {
          "output_type": "stream",
          "name": "stderr",
          "text": [
            "<ipython-input-25-de9a703a5255>:1: MatplotlibDeprecationWarning: The seaborn styles shipped by Matplotlib are deprecated since 3.6, as they no longer correspond to the styles shipped by seaborn. However, they will remain available as 'seaborn-v0_8-<style>'. Alternatively, directly use the seaborn API instead.\n",
            "  plt.style.use(\"seaborn\")\n"
          ]
        },
        {
          "output_type": "display_data",
          "data": {
            "text/plain": [
              "<Figure size 900x500 with 1 Axes>"
            ],
            "image/png": "[encoded data removed]"
          },
          "metadata": {}
        }
      ]
    },
    {
      "cell_type": "code",
      "source": [
        "model_IF_05 = IsolationForest(contamination=float(.05))\n",
        "model_IF_05.fit(newdata[['median']])\n",
        "newdata['IF_anomaly_scores_05'] = model_IF_05.decision_function(newdata[['median']])\n",
        "newdata['IF_anomaly_05'] = model_IF_05.predict(newdata[['median']])"
      ],
      "metadata": {
        "colab": {
          "base_uri": "https://localhost:8080/"
        },
        "id": "twCjxPeLkOHd",
        "outputId": "b4f939a6-2d4e-4294-e309-bf2d665c22a7"
      },
      "execution_count": null,
      "outputs": [
        {
          "output_type": "stream",
          "name": "stderr",
          "text": [
            "/usr/local/lib/python3.10/dist-packages/sklearn/base.py:439: UserWarning: X does not have valid feature names, but IsolationForest was fitted with feature names\n",
            "  warnings.warn(\n"
          ]
        }
      ]
    },
    {
      "cell_type": "code",
      "source": [
        "plt.style.use(\"seaborn\")\n",
        "fig, ax4 = plt.subplots(1, figsize=(9, 5), sharex=True, sharey=False)\n",
        "ax4.scatter(newdata['transaksi'], newdata['median'],c=newdata['IF_anomaly_05'],cmap='RdBu',alpha=0.5 )\n",
        "ax4.set_title(\"Isolation Forest Anomaly Detection\")\n",
        "\n",
        "for anomaly in newdata[newdata['IF_anomaly_05'] == -1]['transaksi']:\n",
        "    ax4.annotate(anomaly, xy=(anomaly, newdata[newdata['transaksi'] == anomaly]['median']),\n",
        "                 xytext=(anomaly,newdata[newdata['transaksi'] == anomaly]['median'] + 0.2))\n",
        "ax4.get_xaxis().set_visible(False)"
      ],
      "metadata": {
        "colab": {
          "base_uri": "https://localhost:8080/"
        },
        "id": "eYd7hJb-k9bE",
        "outputId": "e366d713-4abc-4a5c-defe-8dab3bb26a8f"
      },
      "execution_count": null,
      "outputs": [
        {
          "output_type": "stream",
          "name": "stderr",
          "text": [
            "<ipython-input-27-61ed0168e48a>:1: MatplotlibDeprecationWarning: The seaborn styles shipped by Matplotlib are deprecated since 3.6, as they no longer correspond to the styles shipped by seaborn. However, they will remain available as 'seaborn-v0_8-<style>'. Alternatively, directly use the seaborn API instead.\n",
            "  plt.style.use(\"seaborn\")\n"
          ]
        },
        {
          "output_type": "display_data",
          "data": {
            "text/plain": [
              "<Figure size 900x500 with 1 Axes>"
            ],
            "image/png": "[encoded data removed]"
          },
          "metadata": {}
        }
      ]
    },
    {
      "cell_type": "markdown",
      "source": [
        "###3. Pendekatan Unsupervised dengan algoritma One Class SVM"
      ],
      "metadata": {
        "id": "VE_jPjIu7kwE"
      }
    },
    {
      "cell_type": "code",
      "source": [
        "from sklearn.svm import OneClassSVM\n",
        "import matplotlib.pyplot as plt"
      ],
      "metadata": {
        "id": "Ej0sext_P8yg"
      },
      "execution_count": null,
      "outputs": []
    },
    {
      "cell_type": "code",
      "source": [
        "# Buat DataFrame\n",
        "newdata = {'transaksi': np.arange(1, 21), 'median': np.random.randn(20)}\n",
        "newdata = pd.DataFrame(newdata)\n",
        "\n",
        "# Latih model One-Class SVM\n",
        "model_OCSVM = OneClassSVM(gamma='auto')\n",
        "OCSVM_predictions = model_OCSVM.fit_predict(newdata[['median']])\n",
        "OCSVM_scores = model_OCSVM.decision_function(newdata[['median']])\n",
        "newdata['OCSVM_anomaly_scores'] = OCSVM_scores\n",
        "newdata['OCSVM_anomaly'] = OCSVM_predictions"
      ],
      "metadata": {
        "id": "LdUBFbx1RkBb"
      },
      "execution_count": null,
      "outputs": []
    },
    {
      "cell_type": "code",
      "source": [
        "# Visualisasi\n",
        "plt.style.use(\"seaborn\")\n",
        "fig, ax = plt.subplots(1, figsize=(9, 5), sharex=True, sharey=False)\n",
        "scatter = ax.scatter(newdata['transaksi'], newdata['median'], c=newdata['OCSVM_anomaly'], cmap='RdBu', alpha=0.5)\n",
        "\n",
        "ax.set_title(\"One-Class SVM Anomaly Detection\")\n",
        "\n",
        "# Anotasi untuk titik-titik yang dianggap anomali\n",
        "for anomaly in newdata[newdata['OCSVM_anomaly'] == -1]['transaksi']:\n",
        "    ax.annotate(anomaly, xy=(anomaly, newdata.loc[newdata['transaksi'] == anomaly, 'median']),\n",
        "                xytext=(anomaly, newdata.loc[newdata['transaksi'] == anomaly, 'median'] + 0.2))\n",
        "\n",
        "ax.get_xaxis().set_visible(False)\n",
        "\n",
        "# Tambahkan warna batas keputusan One-Class SVM\n",
        "xx, yy = np.meshgrid(np.linspace(newdata['transaksi'].min(), newdata['transaksi'].max(), 500),\n",
        "                     np.linspace(newdata['median'].min(), newdata['median'].max(), 500))\n",
        "Z = model_OCSVM.decision_function(np.c_[yy.ravel()])\n",
        "Z = Z.reshape(xx.shape)\n",
        "\n",
        "contour = ax.contour(xx, yy, Z, levels=[0], linewidths=2, colors='black')\n",
        "ax.clabel(contour, inline=True, fontsize=8)\n",
        "\n",
        "# Tampilkan legenda untuk warna scatter plot\n",
        "legend_labels = {1: 'Normal', -1: 'Anomaly'}\n",
        "handles = [plt.Line2D([0], [0], marker='o', color='w', markerfacecolor=scatter.cmap(scatter.norm(label)),\n",
        "                      markersize=10, label=legend_labels[label]) for label in legend_labels]\n",
        "\n",
        "ax.legend(handles=handles, title=\"Prediction\")\n",
        "plt.show()"
      ],
      "metadata": {
        "colab": {
          "base_uri": "https://localhost:8080/"
        },
        "id": "Y-K8lbPTVg4V",
        "outputId": "6da2dbf9-28da-49b9-9995-b0ebd3d0dc08"
      },
      "execution_count": null,
      "outputs": [
        {
          "output_type": "stream",
          "name": "stderr",
          "text": [
            "<ipython-input-30-719a65e43c45>:2: MatplotlibDeprecationWarning: The seaborn styles shipped by Matplotlib are deprecated since 3.6, as they no longer correspond to the styles shipped by seaborn. However, they will remain available as 'seaborn-v0_8-<style>'. Alternatively, directly use the seaborn API instead.\n",
            "  plt.style.use(\"seaborn\")\n",
            "/usr/local/lib/python3.10/dist-packages/sklearn/base.py:439: UserWarning: X does not have valid feature names, but OneClassSVM was fitted with feature names\n",
            "  warnings.warn(\n"
          ]
        },
        {
          "output_type": "display_data",
          "data": {
            "text/plain": [
              "<Figure size 900x500 with 1 Axes>"
            ],
            "image/png": "[encoded data removed]"
          },
          "metadata": {}
        }
      ]
    },
    {
      "cell_type": "code",
      "source": [
        "# Latih model One-Class SVM dengan contamination 0.05\n",
        "model_OCSVM_05 = OneClassSVM(gamma='auto', nu=0.05)  # nu adalah parameter yang setara dengan contamination\n",
        "OCSVM_predictions_05 = model_OCSVM_05.fit_predict(newdata[['median']])\n",
        "OCSVM_scores_05 = model_OCSVM_05.decision_function(newdata[['median']])\n",
        "newdata['OCSVM_anomaly_scores_05'] = OCSVM_scores_05\n",
        "newdata['OCSVM_anomaly_05'] = OCSVM_predictions_05"
      ],
      "metadata": {
        "id": "37VTySOW5_31"
      },
      "execution_count": null,
      "outputs": []
    },
    {
      "cell_type": "code",
      "source": [
        "# Visualisasi\n",
        "plt.style.use(\"seaborn\")\n",
        "fig, ax = plt.subplots(1, figsize=(9, 5), sharex=True, sharey=False)\n",
        "scatter = ax.scatter(newdata['transaksi'], newdata['median'], c=newdata['OCSVM_anomaly_05'], cmap='RdBu', alpha=0.5)\n",
        "\n",
        "ax.set_title(\"One-Class SVM Anomaly Detection with Contamination 0.05\")\n",
        "\n",
        "# Anotasi untuk titik-titik yang dianggap anomali\n",
        "for anomaly in newdata[newdata['OCSVM_anomaly_05'] == -1]['transaksi']:\n",
        "    ax.annotate(anomaly, xy=(anomaly, newdata.loc[newdata['transaksi'] == anomaly, 'median']),\n",
        "                xytext=(anomaly, newdata.loc[newdata['transaksi'] == anomaly, 'median'] + 0.2))\n",
        "\n",
        "ax.get_xaxis().set_visible(False)\n",
        "\n",
        "# Tambahkan warna batas keputusan One-Class SVM\n",
        "xx, yy = np.meshgrid(np.linspace(newdata['transaksi'].min(), newdata['transaksi'].max(), 500),\n",
        "                     np.linspace(newdata['median'].min(), newdata['median'].max(), 500))\n",
        "Z = model_OCSVM_05.decision_function(np.c_[yy.ravel()])\n",
        "Z = Z.reshape(xx.shape)\n",
        "\n",
        "contour = ax.contour(xx, yy, Z, levels=[0], linewidths=2, colors='black')\n",
        "ax.clabel(contour, inline=True, fontsize=8)\n",
        "\n",
        "# Tampilkan legenda untuk warna scatter plot\n",
        "legend_labels = {1: 'Normal', -1: 'Anomaly'}\n",
        "handles = [plt.Line2D([0], [0], marker='o', color='w', markerfacecolor=scatter.cmap(scatter.norm(label)),\n",
        "                      markersize=10, label=legend_labels[label]) for label in legend_labels]\n",
        "\n",
        "ax.legend(handles=handles, title=\"Prediction\")\n",
        "plt.show()"
      ],
      "metadata": {
        "colab": {
          "base_uri": "https://localhost:8080/"
        },
        "id": "w4Bf7_7t6AQo",
        "outputId": "17a445b5-1837-420c-ff01-2f1e11178125"
      },
      "execution_count": null,
      "outputs": [
        {
          "output_type": "stream",
          "name": "stderr",
          "text": [
            "<ipython-input-32-08c30c4de52a>:2: MatplotlibDeprecationWarning: The seaborn styles shipped by Matplotlib are deprecated since 3.6, as they no longer correspond to the styles shipped by seaborn. However, they will remain available as 'seaborn-v0_8-<style>'. Alternatively, directly use the seaborn API instead.\n",
            "  plt.style.use(\"seaborn\")\n",
            "/usr/local/lib/python3.10/dist-packages/sklearn/base.py:439: UserWarning: X does not have valid feature names, but OneClassSVM was fitted with feature names\n",
            "  warnings.warn(\n"
          ]
        },
        {
          "output_type": "display_data",
          "data": {
            "text/plain": [
              "<Figure size 900x500 with 1 Axes>"
            ],
            "image/png": "[encoded data removed]"
          },
          "metadata": {}
        }
      ]
    },
    {
      "cell_type": "markdown",
      "source": [
        "##Matriks Evaluasi Kinerja dari tiap tiap Algoritma yang digunakan"
      ],
      "metadata": {
        "id": "OB_cHuD8DtYi"
      }
    },
    {
      "cell_type": "code",
      "source": [
        "data = pd.read_excel('/content/drive/MyDrive/dataset setelah uts/Credit Card Fraud Detection.xlsx')\n",
        "data.head()\n",
        "y_true=data['Class']\n",
        "data=data.drop('Class',1)"
      ],
      "metadata": {
        "colab": {
          "base_uri": "https://localhost:8080/"
        },
        "id": "Z96Gq9pa6j35",
        "outputId": "24d925f4-0b94-4048-e864-6eb36ac6541d"
      },
      "execution_count": null,
      "outputs": [
        {
          "output_type": "stream",
          "name": "stderr",
          "text": [
            "<ipython-input-33-7b62e1fb17bd>:4: FutureWarning: In a future version of pandas all arguments of DataFrame.drop except for the argument 'labels' will be keyword-only.\n",
            "  data=data.drop('Class',1)\n"
          ]
        }
      ]
    },
    {
      "cell_type": "code",
      "source": [
        "from sklearn.ensemble import IsolationForest\n",
        "from sklearn.svm import OneClassSVM\n",
        "from sklearn.neighbors import LocalOutlierFactor ## Only available with scikit-learn 0.19 and later"
      ],
      "metadata": {
        "id": "yYNgT5rR9l2h"
      },
      "execution_count": null,
      "outputs": []
    },
    {
      "cell_type": "code",
      "source": [
        "from sklearn.model_selection import train_test_split"
      ],
      "metadata": {
        "id": "kJgDwe6t9qoG"
      },
      "execution_count": null,
      "outputs": []
    },
    {
      "cell_type": "code",
      "source": [
        "X_train, X_test, y_train, y_test = train_test_split(data, y_true, test_size=0.3, random_state=42)"
      ],
      "metadata": {
        "id": "yB6SlO0Y9vRp"
      },
      "execution_count": null,
      "outputs": []
    },
    {
      "cell_type": "code",
      "source": [
        "def preprocess(data):\n",
        "    for col in data:\n",
        "        data[col]=(data[col]-np.min(data[col]))/(np.max(data[col])-np.min(data[col]))\n",
        "    return\n",
        "\n",
        "def train(X,clf,ensembleSize=5,sampleSize=10000):\n",
        "    mdlLst=[]\n",
        "    for n in range(ensembleSize):\n",
        "        X=data.sample(sampleSize)\n",
        "        clf.fit(X)\n",
        "        mdlLst.append(clf)\n",
        "    return mdlLst\n",
        "\n",
        "def predict(X,mdlLst):\n",
        "    y_pred=np.zeros(X.shape[0])\n",
        "    for clf in mdlLst:\n",
        "        y_pred=np.add(y_pred,clf.decision_function(X).reshape(X.shape[0],))\n",
        "    y_pred=(y_pred*1.0)/len(mdlLst)\n",
        "    return y_pred"
      ],
      "metadata": {
        "id": "FTyIyi9d90J5"
      },
      "execution_count": null,
      "outputs": []
    },
    {
      "cell_type": "code",
      "source": [
        "from sklearn.metrics import roc_auc_score\n",
        "from sklearn.metrics import confusion_matrix,f1_score"
      ],
      "metadata": {
        "id": "mHmDtcSl94fk"
      },
      "execution_count": null,
      "outputs": []
    },
    {
      "cell_type": "markdown",
      "source": [
        "### 1. Matriks Evaluasi Kinerja Algoritma Local Outlier Factor (ROC Auc Score dan F1 Score)"
      ],
      "metadata": {
        "id": "qbWnVywwFlVx"
      }
    },
    {
      "cell_type": "code",
      "source": [
        "clf=LocalOutlierFactor(n_neighbors=20, algorithm='auto', leaf_size=30, \\\n",
        "                   metric='minkowski', p=2, metric_params=None, contamination=0.1, n_jobs=-1)"
      ],
      "metadata": {
        "id": "EnD3_SeJHB6a"
      },
      "execution_count": null,
      "outputs": []
    },
    {
      "cell_type": "code",
      "source": [
        "lof_y_pred=clf.negative_outlier_factor_\n",
        "\n",
        "#Creating class labels based on decision function\n",
        "lof_y_pred_class=lof_y_pred.copy()\n",
        "lof_y_pred_class[lof_y_pred>=np.percentile(lof_y_pred,95)]=1\n",
        "lof_y_pred_class[lof_y_pred<np.percentile(lof_y_pred,95)]=0"
      ],
      "metadata": {
        "id": "GwmDZVWlHEQ1"
      },
      "execution_count": null,
      "outputs": []
    },
    {
      "cell_type": "code",
      "source": [
        "roc_auc_score(y_test, lof_y_pred_class)"
      ],
      "metadata": {
        "colab": {
          "base_uri": "https://localhost:8080/"
        },
        "id": "O82-JxzXI-gA",
        "outputId": "1df2daa7-8506-4604-c181-d174b159d067"
      },
      "execution_count": null,
      "outputs": [
        {
          "output_type": "execute_result",
          "data": {
            "text/plain": [
              "0.4823198254884262"
            ]
          },
          "metadata": {},
          "execution_count": 57
        }
      ]
    },
    {
      "cell_type": "code",
      "source": [
        "f1_score(y_test, lof_y_pred_class)"
      ],
      "metadata": {
        "colab": {
          "base_uri": "https://localhost:8080/"
        },
        "id": "Td8eJiuCI_tE",
        "outputId": "ebd343e1-f3d1-41c8-cfaa-c0eeeb18983f"
      },
      "execution_count": null,
      "outputs": [
        {
          "output_type": "execute_result",
          "data": {
            "text/plain": [
              "0.0009072352007257881"
            ]
          },
          "metadata": {},
          "execution_count": 58
        }
      ]
    },
    {
      "cell_type": "code",
      "source": [
        "lof_cm=confusion_matrix(y_test, lof_y_pred_class)\n",
        "\n",
        "df_cm = pd.DataFrame(lof_cm,\n",
        "                  ['True Normal','True Fraud'],['Pred Normal','Pred Fraud'])\n",
        "pyplot.figure(figsize = (8,4))\n",
        "sn.set(font_scale=1.4)#for label size\n",
        "sn.heatmap(df_cm, annot=True,annot_kws={\"size\": 16},fmt='g')# font size"
      ],
      "metadata": {
        "colab": {
          "base_uri": "https://localhost:8080/",
          "height": 405
        },
        "id": "mtGSOyvtJDEl",
        "outputId": "342fdca7-5c57-4a80-aaf1-acd928a6d328"
      },
      "execution_count": null,
      "outputs": [
        {
          "output_type": "execute_result",
          "data": {
            "text/plain": [
              "<Axes: >"
            ]
          },
          "metadata": {},
          "execution_count": 59
        },
        {
          "output_type": "display_data",
          "data": {
            "text/plain": [
              "<Figure size 800x400 with 2 Axes>"
            ],
            "image/png": "[encoded data removed]"
          },
          "metadata": {}
        }
      ]
    },
    {
      "cell_type": "markdown",
      "source": [
        "### 2. Matriks Evaluasi Kinerja Algoritma Isolation Forest (ROC Auc Score dan F1 Score)"
      ],
      "metadata": {
        "id": "1pXAND9UFUfB"
      }
    },
    {
      "cell_type": "code",
      "source": [
        "alg=IsolationForest(n_estimators=100, max_samples='auto', contamination=0.01, \\\n",
        "                        max_features=1.0, bootstrap=False, n_jobs=-1, random_state=42, verbose=0)"
      ],
      "metadata": {
        "id": "E3De62tC95FC"
      },
      "execution_count": null,
      "outputs": []
    },
    {
      "cell_type": "code",
      "source": [
        "if_mdlLst=train(X_train,alg)"
      ],
      "metadata": {
        "id": "oJLjdkyYDVkr",
        "colab": {
          "base_uri": "https://localhost:8080/"
        },
        "outputId": "73001306-4d6f-42ef-9df8-455484bbbb26"
      },
      "execution_count": null,
      "outputs": [
        {
          "output_type": "stream",
          "name": "stderr",
          "text": [
            "/usr/local/lib/python3.10/dist-packages/sklearn/base.py:439: UserWarning: X does not have valid feature names, but IsolationForest was fitted with feature names\n",
            "  warnings.warn(\n",
            "/usr/local/lib/python3.10/dist-packages/sklearn/base.py:439: UserWarning: X does not have valid feature names, but IsolationForest was fitted with feature names\n",
            "  warnings.warn(\n",
            "/usr/local/lib/python3.10/dist-packages/sklearn/base.py:439: UserWarning: X does not have valid feature names, but IsolationForest was fitted with feature names\n",
            "  warnings.warn(\n",
            "/usr/local/lib/python3.10/dist-packages/sklearn/base.py:439: UserWarning: X does not have valid feature names, but IsolationForest was fitted with feature names\n",
            "  warnings.warn(\n",
            "/usr/local/lib/python3.10/dist-packages/sklearn/base.py:439: UserWarning: X does not have valid feature names, but IsolationForest was fitted with feature names\n",
            "  warnings.warn(\n"
          ]
        }
      ]
    },
    {
      "cell_type": "code",
      "source": [
        "if_y_pred=predict(X_test,if_mdlLst)\n",
        "if_y_pred=1-if_y_pred\n",
        "\n",
        "#Creating class labels based on decision function\n",
        "if_y_pred_class=if_y_pred.copy()\n",
        "if_y_pred_class[if_y_pred>=np.percentile(if_y_pred,95)]=1\n",
        "if_y_pred_class[if_y_pred<np.percentile(if_y_pred,95)]=0"
      ],
      "metadata": {
        "id": "4xr11N0YDOtx"
      },
      "execution_count": null,
      "outputs": []
    },
    {
      "cell_type": "code",
      "source": [
        "roc_auc_score(y_test, if_y_pred_class)"
      ],
      "metadata": {
        "id": "jqe2htA2_I3k",
        "colab": {
          "base_uri": "https://localhost:8080/"
        },
        "outputId": "50e1ec2e-4f15-4f52-e351-75fb16a2765d"
      },
      "execution_count": null,
      "outputs": [
        {
          "output_type": "execute_result",
          "data": {
            "text/plain": [
              "0.5191431432080258"
            ]
          },
          "metadata": {},
          "execution_count": 63
        }
      ]
    },
    {
      "cell_type": "code",
      "source": [
        "f1_score(y_test, if_y_pred_class)"
      ],
      "metadata": {
        "id": "lRx7nmEA_ct8",
        "colab": {
          "base_uri": "https://localhost:8080/"
        },
        "outputId": "2508d5e3-fee5-49c5-d42e-0bbf51123987"
      },
      "execution_count": null,
      "outputs": [
        {
          "output_type": "execute_result",
          "data": {
            "text/plain": [
              "0.005443411204354729"
            ]
          },
          "metadata": {},
          "execution_count": 64
        }
      ]
    },
    {
      "cell_type": "code",
      "source": [
        "if_cm=confusion_matrix(y_test, if_y_pred_class)"
      ],
      "metadata": {
        "id": "rzYZXOS8_Qqb"
      },
      "execution_count": null,
      "outputs": []
    },
    {
      "cell_type": "code",
      "source": [
        "import seaborn as sn\n",
        "from matplotlib import pyplot\n",
        "df_cm = pd.DataFrame(if_cm,\n",
        "                  ['True Normal','True Fraud'],['Pred Normal','Pred Fraud'])\n",
        "pyplot.figure(figsize = (8,4))\n",
        "sn.set(font_scale=1.4)#for label size\n",
        "sn.heatmap(df_cm, annot=True,annot_kws={\"size\": 16},fmt='g')# font size"
      ],
      "metadata": {
        "id": "-reEaGK7_S2w",
        "colab": {
          "base_uri": "https://localhost:8080/",
          "height": 405
        },
        "outputId": "bdaf5ac6-1fc8-46e9-86a8-f8daa44d258c"
      },
      "execution_count": null,
      "outputs": [
        {
          "output_type": "execute_result",
          "data": {
            "text/plain": [
              "<Axes: >"
            ]
          },
          "metadata": {},
          "execution_count": 66
        },
        {
          "output_type": "display_data",
          "data": {
            "text/plain": [
              "<Figure size 800x400 with 2 Axes>"
            ],
            "image/png": "[encoded data removed]"
          },
          "metadata": {}
        }
      ]
    },
    {
      "cell_type": "markdown",
      "source": [
        "### Kesimpulan dan Perbandingan"
      ],
      "metadata": {
        "id": "2sbOpblbJjgG"
      }
    },
    {
      "cell_type": "code",
      "source": [
        "## Performance Plot\n",
        "auc_scores={\n",
        "    'Isolation Forest': roc_auc_score(y_test, if_y_pred_class),\n",
        "    'LOF':roc_auc_score(y_test, lof_y_pred_class),\n",
        "}\n",
        "\n",
        "f1_scores={\n",
        "    'Isolation Forest':f1_score(y_test, if_y_pred_class),\n",
        "    'LOF':f1_score(y_test, lof_y_pred_class),\n",
        "}"
      ],
      "metadata": {
        "id": "Tk_gos0pJpfX"
      },
      "execution_count": null,
      "outputs": []
    },
    {
      "cell_type": "code",
      "source": [
        "pyplot.title('AUC Scores')\n",
        "pyplot.barh(range(len(auc_scores)), list(auc_scores.values()), align='center')\n",
        "pyplot.yticks(range(len(auc_scores)), list(auc_scores.keys()))\n",
        "pyplot.xlabel('AUC Score')"
      ],
      "metadata": {
        "id": "39c0-2A6J03V",
        "colab": {
          "base_uri": "https://localhost:8080/",
          "height": 571
        },
        "outputId": "416d2174-4b87-414a-979d-8f74e985a6bc"
      },
      "execution_count": null,
      "outputs": [
        {
          "output_type": "execute_result",
          "data": {
            "text/plain": [
              "Text(0.5, 0, 'AUC Score')"
            ]
          },
          "metadata": {},
          "execution_count": 71
        },
        {
          "output_type": "display_data",
          "data": {
            "text/plain": [
              "<Figure size 800x550 with 1 Axes>"
            ],
            "image/png": "[encoded data removed]"
          },
          "metadata": {}
        }
      ]
    },
    {
      "cell_type": "code",
      "source": [
        "pyplot.title('F1 Scores')\n",
        "pyplot.barh(range(len(f1_scores)), list(f1_scores.values()), align='center')\n",
        "pyplot.yticks(range(len(f1_scores)), list(f1_scores.keys()))\n",
        "pyplot.xlabel('F1 Score')"
      ],
      "metadata": {
        "id": "0gzWg6E_J3zk",
        "colab": {
          "base_uri": "https://localhost:8080/",
          "height": 571
        },
        "outputId": "23be9ca5-150a-4633-fc37-edb6a7038fd5"
      },
      "execution_count": null,
      "outputs": [
        {
          "output_type": "execute_result",
          "data": {
            "text/plain": [
              "Text(0.5, 0, 'F1 Score')"
            ]
          },
          "metadata": {},
          "execution_count": 72
        },
        {
          "output_type": "display_data",
          "data": {
            "text/plain": [
              "<Figure size 800x550 with 1 Axes>"
            ],
            "image/png": "[encoded data removed]"
          },
          "metadata": {}
        }
      ]
    }
  ]
}